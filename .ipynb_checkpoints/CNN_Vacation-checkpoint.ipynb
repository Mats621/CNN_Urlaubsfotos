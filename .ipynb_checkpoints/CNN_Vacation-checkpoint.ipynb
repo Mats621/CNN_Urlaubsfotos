{
 "cells": [
  {
   "cell_type": "markdown",
   "id": "1dee9acb",
   "metadata": {},
   "source": [
    "## CNN Classifier Testscript - Vacation Images\n",
    "\n",
    "\n",
    "### Imports"
   ]
  },
  {
   "cell_type": "code",
   "execution_count": 1,
   "id": "f933335a",
   "metadata": {},
   "outputs": [],
   "source": [
    "#general\n",
    "import numpy as np\n",
    "import splitfolders\n",
    "import time\n",
    "from datetime import datetime \n",
    "from time import gmtime, strftime\n",
    "from tqdm import tqdm\n",
    "import os\n",
    "\n",
    "#pytorch\n",
    "import torch\n",
    "import torch.optim as optim\n",
    "import torch.nn as nn\n",
    "import torch.nn.functional as F\n",
    "import torchvision\n",
    "import torchvision.transforms as T\n",
    "\n",
    "#visualization\n",
    "import matplotlib.pyplot as plt"
   ]
  },
  {
   "cell_type": "markdown",
   "id": "55b6dfc3",
   "metadata": {},
   "source": [
    "### Some parameters to be set"
   ]
  },
  {
   "cell_type": "code",
   "execution_count": 2,
   "id": "4eda52e8",
   "metadata": {},
   "outputs": [],
   "source": [
    "#==============#\n",
    "pixel = 128    # --> 128,64,32 are valid\n",
    "#==============#\n",
    "version = f'{pixel}x{pixel}'\n",
    "#==============#\n",
    "batch_size = 16\n",
    "#==============#\n",
    "epochs = 150\n",
    "#==============#\n",
    "lr = 0.001\n",
    "#==============#\n",
    "momentum = 0.9\n",
    "#==============#\n",
    "num_workers = 4\n",
    "#==============#"
   ]
  },
  {
   "cell_type": "markdown",
   "id": "6bad1d19",
   "metadata": {},
   "source": [
    "### Script Runtime Start"
   ]
  },
  {
   "cell_type": "code",
   "execution_count": 3,
   "id": "e571a223",
   "metadata": {},
   "outputs": [],
   "source": [
    "def start_time_():    \n",
    "    start_time = time.time()\n",
    "    return(start_time)\n",
    "\n",
    "def end_time_():\n",
    "    end_time = time.time()\n",
    "    return(end_time)\n",
    "\n",
    "def Execution_time(start_time_,end_time_):\n",
    "    return(strftime(\"%H:%M:%S\",gmtime(int('{:.0f}'.format(float(str((end_time_-start_time_))))))))"
   ]
  },
  {
   "cell_type": "code",
   "execution_count": 4,
   "id": "4f267bf6",
   "metadata": {},
   "outputs": [],
   "source": [
    "script_start = start_time_()"
   ]
  },
  {
   "cell_type": "markdown",
   "id": "764c9510",
   "metadata": {},
   "source": [
    "### Create Directory for saving files"
   ]
  },
  {
   "cell_type": "code",
   "execution_count": 5,
   "id": "6f27fdca",
   "metadata": {},
   "outputs": [
    {
     "name": "stdout",
     "output_type": "stream",
     "text": [
      "Directory  graphs/128x128  already exists\n",
      "Directory  models/128x128  already exists\n",
      "Directory  output_txt/128x128  already exists\n"
     ]
    }
   ],
   "source": [
    "dirName_1 = f'graphs/{version}'\n",
    "dirName_2 = f'models/{version}'\n",
    "dirName_3 = f'output_txt/{version}'\n",
    "\n",
    "directories = [dirName_1, dirName_2, dirName_3]\n",
    "\n",
    "# Create target Directory if don't exist\n",
    "\n",
    "for path in directories:\n",
    "    if not os.path.exists(path):\n",
    "        os.mkdir(path)\n",
    "        print(\"Directory \" , path ,  \" Created \")\n",
    "    else:    \n",
    "        print(\"Directory \" , path ,  \" already exists\")  "
   ]
  },
  {
   "cell_type": "markdown",
   "id": "4b95a15a",
   "metadata": {},
   "source": [
    "### Initialize textfile for prints"
   ]
  },
  {
   "cell_type": "code",
   "execution_count": 6,
   "id": "f556790b",
   "metadata": {},
   "outputs": [],
   "source": [
    "f = open(f'output_txt/{version}/cnn_net_b{batch_size}_e{epochs}.txt', 'a')\n",
    "\n",
    "print(f'The parameters for this network are: \\n\\\n",
    "        - input image size: \\t {version}\\n\\\n",
    "        - batch_size dataloader: {batch_size}\\n\\\n",
    "        - number of epcohs: \\t {epochs}\\n\\\n",
    "        - learning rate: \\t\\t {lr}\\n\\\n",
    "        - momentum: \\t\\t\\t {momentum}\\n\\\n",
    "        - number of workers: \\t {num_workers}','\\n', file=f)\n"
   ]
  },
  {
   "cell_type": "markdown",
   "id": "75fe40bc",
   "metadata": {},
   "source": [
    "### Initialize GPU"
   ]
  },
  {
   "cell_type": "code",
   "execution_count": 7,
   "id": "e70d447a",
   "metadata": {},
   "outputs": [
    {
     "name": "stdout",
     "output_type": "stream",
     "text": [
      "Using device: cuda\n"
     ]
    }
   ],
   "source": [
    "device = torch.device('cuda' if torch.cuda.is_available() else 'cpu')\n",
    "print('Using device:', device)"
   ]
  },
  {
   "cell_type": "markdown",
   "id": "6c7eb09f",
   "metadata": {},
   "source": [
    "### Creating Folder Structure"
   ]
  },
  {
   "cell_type": "markdown",
   "id": "632e57b9",
   "metadata": {},
   "source": [
    "The original folder containing the 2 subclass folder has to be split into subfolders for train, validation and test.\n",
    "\n",
    "`Original:`  \n",
    "* Data\n",
    "    * Person\n",
    "    * Scene\n",
    "---\n",
    "`New:`\n",
    "* Data\n",
    "    * train (70% of total)\n",
    "        * Person\n",
    "        * Scene\n",
    "    * val (10% of total)\n",
    "        * Person\n",
    "        * Scene\n",
    "    * test (20% of total)\n",
    "        * Person\n",
    "        * Scene"
   ]
  },
  {
   "cell_type": "code",
   "execution_count": 8,
   "id": "1c99b588",
   "metadata": {},
   "outputs": [],
   "source": [
    "## Following Code does the described above\n",
    "\n",
    "# input_folder = 'Data/'\n",
    "# output_folder = 'img_data/'\n",
    "\n",
    "# splitfolders.ratio(input_folder, output=output_folder, seed=1337, ratio=(0.7, 0.1, 0.2))"
   ]
  },
  {
   "cell_type": "code",
   "execution_count": 9,
   "id": "bce0b405",
   "metadata": {},
   "outputs": [],
   "source": [
    "#paths to be used for dataloaders later on\n",
    "path_to_train = './img_data/train/'\n",
    "path_to_val = './img_data/val/'\n",
    "path_to_test = './img_data/test/'"
   ]
  },
  {
   "cell_type": "markdown",
   "id": "e3ef23ff",
   "metadata": {},
   "source": [
    "### Define data tranformations"
   ]
  },
  {
   "cell_type": "code",
   "execution_count": 10,
   "id": "b5be7a45",
   "metadata": {},
   "outputs": [],
   "source": [
    "mean = [0.4939, 0.5189, 0.5326] #calculated in seperate notebook file\n",
    "std = [0.2264, 0.2398, 0.2707] #calculated in seperate notebook file\n",
    "\n",
    "\n",
    "#for training a litte augmentation (random flip, grayscale and rotation) will be performed\n",
    "train_transforms = T.Compose([\n",
    "    T.Resize([pixel,]),\n",
    "    T.CenterCrop([pixel,]),\n",
    "    T.RandomHorizontalFlip(0.3), \n",
    "    T.RandomGrayscale(0.1),\n",
    "    T.RandomRotation(30),\n",
    "    T.ToTensor(),\n",
    "    T.Normalize(torch.tensor(mean), torch.tensor(std))\n",
    "])\n",
    "\n",
    "#no augmentation needed, therefore only reszing, to tensor and normalizing\n",
    "val_transforms = T.Compose([\n",
    "    T.Resize([pixel,]),\n",
    "    T.CenterCrop([pixel,]),\n",
    "    T.ToTensor(),\n",
    "    T.Normalize(torch.tensor(mean), torch.tensor(std))\n",
    "])\n",
    "\n",
    "#no augmentation needed, therefore only reszing, to tensor and normalizing\n",
    "test_transforms = T.Compose([\n",
    "    T.Resize([pixel,]),\n",
    "    T.CenterCrop([pixel,]),\n",
    "    T.ToTensor(),\n",
    "    T.Normalize(torch.tensor(mean), torch.tensor(std))\n",
    "])"
   ]
  },
  {
   "cell_type": "markdown",
   "id": "8d9e1122",
   "metadata": {},
   "source": [
    "### Initialize Datasets (Train, Validation, Test)"
   ]
  },
  {
   "cell_type": "code",
   "execution_count": 11,
   "id": "e9f28981",
   "metadata": {},
   "outputs": [],
   "source": [
    "#Create datasets, labling is done with \"ImageFolder\"-Method\n",
    "train_dataset = torchvision.datasets.ImageFolder(root=path_to_train, transform=train_transforms)\n",
    "val_dataset = torchvision.datasets.ImageFolder(root=path_to_val, transform=val_transforms)\n",
    "test_dataset = torchvision.datasets.ImageFolder(root=path_to_test, transform=test_transforms)\n",
    "\n",
    "classes = ('person', 'scene')"
   ]
  },
  {
   "cell_type": "markdown",
   "id": "9cd9a074",
   "metadata": {},
   "source": [
    "### Initialize DataLoaders for the Datasets"
   ]
  },
  {
   "cell_type": "code",
   "execution_count": 12,
   "id": "84d72e56",
   "metadata": {},
   "outputs": [],
   "source": [
    "#Define Loaders\n",
    "train_loader = torch.utils.data.DataLoader(dataset = train_dataset, batch_size=batch_size, shuffle=True, num_workers=num_workers)\n",
    "val_loader = torch.utils.data.DataLoader(dataset = val_dataset, batch_size=batch_size, shuffle=True, num_workers=num_workers)\n",
    "test_loader = torch.utils.data.DataLoader(dataset = test_dataset, batch_size=batch_size, shuffle=True, num_workers=num_workers)"
   ]
  },
  {
   "cell_type": "markdown",
   "id": "51d28b68",
   "metadata": {},
   "source": [
    "### Unnormalize pictures for visualization later"
   ]
  },
  {
   "cell_type": "code",
   "execution_count": 13,
   "id": "8a98f2b4",
   "metadata": {},
   "outputs": [],
   "source": [
    "class UnNormalize(object):\n",
    "    def __init__(self, mean, std):\n",
    "        self.mean = mean\n",
    "        self.std = std\n",
    "\n",
    "    def __call__(self, tensor):\n",
    "        \"\"\"\n",
    "        Args:\n",
    "            tensor (Tensor): Tensor image of size (C, H, W) to be normalized.\n",
    "        Returns:\n",
    "            Tensor: Normalized image.\n",
    "        \"\"\"\n",
    "        for t, m, s in zip(tensor, self.mean, self.std):\n",
    "            t.mul_(s).add_(m)\n",
    "            # The normalize code -> t.sub_(m).div_(s)\n",
    "        return tensor"
   ]
  },
  {
   "cell_type": "markdown",
   "id": "e803ebf4",
   "metadata": {},
   "source": [
    "### Define Image viewer"
   ]
  },
  {
   "cell_type": "code",
   "execution_count": 14,
   "id": "5b33f3f0",
   "metadata": {},
   "outputs": [],
   "source": [
    "def imshow(img):\n",
    "    de_norm = UnNormalize(mean=(0.4939, 0.5189, 0.5326), std=(0.2264, 0.2398, 0.2707))\n",
    "    img = de_norm(img)      # unnormalize\n",
    "    npimg = img.cpu().numpy()\n",
    "    plt.figure(figsize=(3,3))\n",
    "    plt.imshow(np.transpose(npimg, (1, 2, 0)))\n",
    "    plt.show()"
   ]
  },
  {
   "cell_type": "markdown",
   "id": "a7db420b",
   "metadata": {},
   "source": [
    "### Define CNN "
   ]
  },
  {
   "cell_type": "code",
   "execution_count": 15,
   "id": "4821b430",
   "metadata": {},
   "outputs": [],
   "source": [
    "class CNN(nn.Module):\n",
    "    \n",
    "    def __init__(self, pixel):\n",
    "        \n",
    "        super(CNN, self).__init__()\n",
    "        self.pixel = pixel\n",
    "        self.dropout = nn.Dropout(0.25)\n",
    "        self.pool = nn.MaxPool2d(2,2)\n",
    "        \n",
    "        #_________128x128__________________________\n",
    "        if self.pixel == 128:\n",
    "            self.conv1 = nn.Conv2d(3, 6, 5) \n",
    "            self.conv2 = nn.Conv2d(6, 16, 5, padding = 1) \n",
    "            self.conv3 = nn.Conv2d(16, 16, 5)\n",
    "            \n",
    "            self.fc1 = nn.Linear(16 * 13 * 13, 120) #(16 channel * 13 * 13 (image size))\n",
    "            \n",
    "        #_________64x64____________________________\n",
    "        elif self.pixel == 64:\n",
    "            self.conv1 = nn.Conv2d(3, 6, 3, padding = 1) \n",
    "            self.conv2 = nn.Conv2d(6, 16, 3, padding = 1) \n",
    "            self.conv3 = nn.Conv2d(16, 16, 3)\n",
    "            \n",
    "            self.fc1 = nn.Linear(16 * 7 * 7, 120) #(16 channel * 7 * 7 (image size))\n",
    "            \n",
    "        #_________32x32____________________________\n",
    "        elif self.pixel == 32:\n",
    "            self.conv1 = nn.Conv2d(3, 6, 3, padding = 1) \n",
    "            self.conv2 = nn.Conv2d(6, 16, 3, padding = 1) \n",
    "            self.conv3 = nn.Conv2d(16, 16, 3)\n",
    "            \n",
    "            self.fc1 = nn.Linear(16 * 3 * 3, 120) #(16 channel * 3 * 3 (image size))\n",
    "            \n",
    "        #________following_linear_layers___________\n",
    "        self.fc2 = nn.Linear(120, 84)\n",
    "        self.fc3 = nn.Linear(84, 20)\n",
    "        self.fc4 = nn.Linear(20, 2)\n",
    "    \n",
    "    def forward(self,x):\n",
    "        x = self.pool(F.relu(self.conv1(x)))\n",
    "        x = self.pool(F.relu(self.conv2(x)))\n",
    "        x = self.pool(F.relu(self.conv3(x)))\n",
    "        x = torch.flatten(x, 1)\n",
    "        x = F.relu(self.fc1(x))\n",
    "        x = self.dropout(x)\n",
    "        x = F.relu(self.fc2(x))\n",
    "        x = self.dropout(x)\n",
    "        x = F.relu(self.fc3(x))\n",
    "        x = self.fc4(x)\n",
    "        return x"
   ]
  },
  {
   "cell_type": "code",
   "execution_count": 16,
   "id": "c7adaec0",
   "metadata": {},
   "outputs": [],
   "source": [
    "cnn = CNN(pixel).to(device)"
   ]
  },
  {
   "cell_type": "markdown",
   "id": "1b483bcc",
   "metadata": {},
   "source": [
    "### Define loss function and optimizer"
   ]
  },
  {
   "cell_type": "code",
   "execution_count": 17,
   "id": "431304e9",
   "metadata": {},
   "outputs": [],
   "source": [
    "criterion = nn.CrossEntropyLoss()\n",
    "optimizer = optim.SGD(cnn.parameters(), lr=lr, momentum=momentum)"
   ]
  },
  {
   "cell_type": "markdown",
   "id": "8fde0def",
   "metadata": {},
   "source": [
    "### Train network"
   ]
  },
  {
   "cell_type": "code",
   "execution_count": 18,
   "id": "b7ada73f",
   "metadata": {},
   "outputs": [],
   "source": [
    "#splitted from below, to run more epochs if needed without setting loss lists to zero\n",
    "train_loss = []  \n",
    "validation_loss = []\n",
    "min_valid_loss = np.inf  #value to distinguish if model will be saved or not. If val loss lower, model will be saved"
   ]
  },
  {
   "cell_type": "code",
   "execution_count": null,
   "id": "09bb696f",
   "metadata": {},
   "outputs": [
    {
     "name": "stderr",
     "output_type": "stream",
     "text": [
      "  0%|                                                                                          | 0/131 [00:00<?, ?it/s]c:\\users\\matze\\appdata\\local\\programs\\python\\python39\\lib\\site-packages\\torch\\nn\\functional.py:718: UserWarning: Named tensors and all their associated APIs are an experimental feature and subject to change. Please do not use them for anything important until they are released as stable. (Triggered internally at  ..\\c10/core/TensorImpl.h:1156.)\n",
      "  return torch.max_pool2d(input, kernel_size, stride, padding, dilation, ceil_mode)\n",
      "  0%|                                                                                          | 0/131 [00:00<?, ?it/s]"
     ]
    },
    {
     "name": "stdout",
     "output_type": "stream",
     "text": [
      "Epoch 1 \t Training Loss: 0.685608 \t Validation Loss: 0.678126 \t Validation Accuracy: 59\n",
      "Validation Loss Decreased(inf--->0.678126) \t Saving The Model\n"
     ]
    },
    {
     "name": "stderr",
     "output_type": "stream",
     "text": [
      "  0%|                                                                                          | 0/131 [00:00<?, ?it/s]"
     ]
    },
    {
     "name": "stdout",
     "output_type": "stream",
     "text": [
      "Epoch 2 \t Training Loss: 0.675268 \t Validation Loss: 0.673745 \t Validation Accuracy: 59\n",
      "Validation Loss Decreased(0.678126--->0.673745) \t Saving The Model\n"
     ]
    },
    {
     "name": "stderr",
     "output_type": "stream",
     "text": [
      "  0%|                                                                                          | 0/131 [00:00<?, ?it/s]"
     ]
    },
    {
     "name": "stdout",
     "output_type": "stream",
     "text": [
      "Epoch 3 \t Training Loss: 0.673159 \t Validation Loss: 0.672643 \t Validation Accuracy: 59\n",
      "Validation Loss Decreased(0.673745--->0.672643) \t Saving The Model\n"
     ]
    },
    {
     "name": "stderr",
     "output_type": "stream",
     "text": [
      "  0%|                                                                                          | 0/131 [00:00<?, ?it/s]"
     ]
    },
    {
     "name": "stdout",
     "output_type": "stream",
     "text": [
      "Epoch 4 \t Training Loss: 0.671788 \t Validation Loss: 0.670803 \t Validation Accuracy: 59\n",
      "Validation Loss Decreased(0.672643--->0.670803) \t Saving The Model\n"
     ]
    },
    {
     "name": "stderr",
     "output_type": "stream",
     "text": [
      "  0%|                                                                                          | 0/131 [00:00<?, ?it/s]"
     ]
    },
    {
     "name": "stdout",
     "output_type": "stream",
     "text": [
      "Epoch 5 \t Training Loss: 0.668964 \t Validation Loss: 0.666322 \t Validation Accuracy: 59\n",
      "Validation Loss Decreased(0.670803--->0.666322) \t Saving The Model\n"
     ]
    },
    {
     "name": "stderr",
     "output_type": "stream",
     "text": [
      "  0%|                                                                                          | 0/131 [00:00<?, ?it/s]"
     ]
    },
    {
     "name": "stdout",
     "output_type": "stream",
     "text": [
      "Epoch 6 \t Training Loss: 0.661682 \t Validation Loss: 0.654171 \t Validation Accuracy: 59\n",
      "Validation Loss Decreased(0.666322--->0.654171) \t Saving The Model\n"
     ]
    },
    {
     "name": "stderr",
     "output_type": "stream",
     "text": [
      "  0%|                                                                                          | 0/131 [00:00<?, ?it/s]"
     ]
    },
    {
     "name": "stdout",
     "output_type": "stream",
     "text": [
      "Epoch 7 \t Training Loss: 0.648500 \t Validation Loss: 0.633752 \t Validation Accuracy: 67\n",
      "Validation Loss Decreased(0.654171--->0.633752) \t Saving The Model\n"
     ]
    },
    {
     "name": "stderr",
     "output_type": "stream",
     "text": [
      "  0%|                                                                                          | 0/131 [00:00<?, ?it/s]"
     ]
    },
    {
     "name": "stdout",
     "output_type": "stream",
     "text": [
      "Epoch 8 \t Training Loss: 0.624648 \t Validation Loss: 0.657906 \t Validation Accuracy: 63\n"
     ]
    },
    {
     "name": "stderr",
     "output_type": "stream",
     "text": [
      "  0%|                                                                                          | 0/131 [00:00<?, ?it/s]"
     ]
    },
    {
     "name": "stdout",
     "output_type": "stream",
     "text": [
      "Epoch 9 \t Training Loss: 0.617118 \t Validation Loss: 0.598128 \t Validation Accuracy: 70\n",
      "Validation Loss Decreased(0.633752--->0.598128) \t Saving The Model\n"
     ]
    },
    {
     "name": "stderr",
     "output_type": "stream",
     "text": [
      "  0%|                                                                                          | 0/131 [00:00<?, ?it/s]"
     ]
    },
    {
     "name": "stdout",
     "output_type": "stream",
     "text": [
      "Epoch 10 \t Training Loss: 0.609487 \t Validation Loss: 0.583799 \t Validation Accuracy: 71\n",
      "Validation Loss Decreased(0.598128--->0.583799) \t Saving The Model\n"
     ]
    },
    {
     "name": "stderr",
     "output_type": "stream",
     "text": [
      "  0%|                                                                                          | 0/131 [00:00<?, ?it/s]"
     ]
    },
    {
     "name": "stdout",
     "output_type": "stream",
     "text": [
      "Epoch 11 \t Training Loss: 0.599512 \t Validation Loss: 0.577063 \t Validation Accuracy: 71\n",
      "Validation Loss Decreased(0.583799--->0.577063) \t Saving The Model\n"
     ]
    },
    {
     "name": "stderr",
     "output_type": "stream",
     "text": [
      "  0%|                                                                                          | 0/131 [00:00<?, ?it/s]"
     ]
    },
    {
     "name": "stdout",
     "output_type": "stream",
     "text": [
      "Epoch 12 \t Training Loss: 0.592937 \t Validation Loss: 0.575154 \t Validation Accuracy: 70\n",
      "Validation Loss Decreased(0.577063--->0.575154) \t Saving The Model\n"
     ]
    },
    {
     "name": "stderr",
     "output_type": "stream",
     "text": [
      "  0%|                                                                                          | 0/131 [00:00<?, ?it/s]"
     ]
    },
    {
     "name": "stdout",
     "output_type": "stream",
     "text": [
      "Epoch 13 \t Training Loss: 0.581191 \t Validation Loss: 0.557441 \t Validation Accuracy: 72\n",
      "Validation Loss Decreased(0.575154--->0.557441) \t Saving The Model\n"
     ]
    },
    {
     "name": "stderr",
     "output_type": "stream",
     "text": [
      "  0%|                                                                                          | 0/131 [00:00<?, ?it/s]"
     ]
    },
    {
     "name": "stdout",
     "output_type": "stream",
     "text": [
      "Epoch 14 \t Training Loss: 0.567376 \t Validation Loss: 0.558080 \t Validation Accuracy: 75\n"
     ]
    },
    {
     "name": "stderr",
     "output_type": "stream",
     "text": [
      "  0%|                                                                                          | 0/131 [00:00<?, ?it/s]"
     ]
    },
    {
     "name": "stdout",
     "output_type": "stream",
     "text": [
      "Epoch 15 \t Training Loss: 0.542721 \t Validation Loss: 0.523584 \t Validation Accuracy: 76\n",
      "Validation Loss Decreased(0.557441--->0.523584) \t Saving The Model\n"
     ]
    },
    {
     "name": "stderr",
     "output_type": "stream",
     "text": [
      "  0%|                                                                                          | 0/131 [00:00<?, ?it/s]"
     ]
    },
    {
     "name": "stdout",
     "output_type": "stream",
     "text": [
      "Epoch 16 \t Training Loss: 0.529398 \t Validation Loss: 0.570706 \t Validation Accuracy: 68\n"
     ]
    },
    {
     "name": "stderr",
     "output_type": "stream",
     "text": [
      "  0%|                                                                                          | 0/131 [00:00<?, ?it/s]"
     ]
    },
    {
     "name": "stdout",
     "output_type": "stream",
     "text": [
      "Epoch 17 \t Training Loss: 0.517199 \t Validation Loss: 0.487035 \t Validation Accuracy: 78\n",
      "Validation Loss Decreased(0.523584--->0.487035) \t Saving The Model\n"
     ]
    },
    {
     "name": "stderr",
     "output_type": "stream",
     "text": [
      "  0%|                                                                                          | 0/131 [00:00<?, ?it/s]"
     ]
    },
    {
     "name": "stdout",
     "output_type": "stream",
     "text": [
      "Epoch 18 \t Training Loss: 0.476374 \t Validation Loss: 0.461155 \t Validation Accuracy: 81\n",
      "Validation Loss Decreased(0.487035--->0.461155) \t Saving The Model\n"
     ]
    },
    {
     "name": "stderr",
     "output_type": "stream",
     "text": [
      "  0%|                                                                                          | 0/131 [00:00<?, ?it/s]"
     ]
    },
    {
     "name": "stdout",
     "output_type": "stream",
     "text": [
      "Epoch 19 \t Training Loss: 0.472859 \t Validation Loss: 0.455772 \t Validation Accuracy: 79\n",
      "Validation Loss Decreased(0.461155--->0.455772) \t Saving The Model\n"
     ]
    },
    {
     "name": "stderr",
     "output_type": "stream",
     "text": [
      "  0%|                                                                                          | 0/131 [00:00<?, ?it/s]"
     ]
    },
    {
     "name": "stdout",
     "output_type": "stream",
     "text": [
      "Epoch 20 \t Training Loss: 0.471804 \t Validation Loss: 0.513507 \t Validation Accuracy: 74\n"
     ]
    },
    {
     "name": "stderr",
     "output_type": "stream",
     "text": [
      "  0%|                                                                                          | 0/131 [00:00<?, ?it/s]"
     ]
    },
    {
     "name": "stdout",
     "output_type": "stream",
     "text": [
      "Epoch 21 \t Training Loss: 0.443489 \t Validation Loss: 0.439226 \t Validation Accuracy: 78\n",
      "Validation Loss Decreased(0.455772--->0.439226) \t Saving The Model\n"
     ]
    },
    {
     "name": "stderr",
     "output_type": "stream",
     "text": [
      "  0%|                                                                                          | 0/131 [00:00<?, ?it/s]"
     ]
    },
    {
     "name": "stdout",
     "output_type": "stream",
     "text": [
      "Epoch 22 \t Training Loss: 0.421794 \t Validation Loss: 0.401916 \t Validation Accuracy: 82\n",
      "Validation Loss Decreased(0.439226--->0.401916) \t Saving The Model\n"
     ]
    },
    {
     "name": "stderr",
     "output_type": "stream",
     "text": [
      "  0%|                                                                                          | 0/131 [00:00<?, ?it/s]"
     ]
    },
    {
     "name": "stdout",
     "output_type": "stream",
     "text": [
      "Epoch 23 \t Training Loss: 0.415798 \t Validation Loss: 0.439937 \t Validation Accuracy: 80\n"
     ]
    },
    {
     "name": "stderr",
     "output_type": "stream",
     "text": [
      "  0%|                                                                                          | 0/131 [00:00<?, ?it/s]"
     ]
    },
    {
     "name": "stdout",
     "output_type": "stream",
     "text": [
      "Epoch 24 \t Training Loss: 0.421498 \t Validation Loss: 0.409149 \t Validation Accuracy: 84\n"
     ]
    },
    {
     "name": "stderr",
     "output_type": "stream",
     "text": [
      "  0%|                                                                                          | 0/131 [00:00<?, ?it/s]"
     ]
    },
    {
     "name": "stdout",
     "output_type": "stream",
     "text": [
      "Epoch 25 \t Training Loss: 0.391040 \t Validation Loss: 0.361427 \t Validation Accuracy: 87\n",
      "Validation Loss Decreased(0.401916--->0.361427) \t Saving The Model\n"
     ]
    },
    {
     "name": "stderr",
     "output_type": "stream",
     "text": [
      "  0%|                                                                                          | 0/131 [00:00<?, ?it/s]"
     ]
    },
    {
     "name": "stdout",
     "output_type": "stream",
     "text": [
      "Epoch 26 \t Training Loss: 0.363051 \t Validation Loss: 0.367237 \t Validation Accuracy: 82\n"
     ]
    },
    {
     "name": "stderr",
     "output_type": "stream",
     "text": [
      "  0%|                                                                                          | 0/131 [00:00<?, ?it/s]"
     ]
    },
    {
     "name": "stdout",
     "output_type": "stream",
     "text": [
      "Epoch 27 \t Training Loss: 0.357814 \t Validation Loss: 0.352012 \t Validation Accuracy: 85\n",
      "Validation Loss Decreased(0.361427--->0.352012) \t Saving The Model\n"
     ]
    },
    {
     "name": "stderr",
     "output_type": "stream",
     "text": [
      "  0%|                                                                                          | 0/131 [00:00<?, ?it/s]"
     ]
    },
    {
     "name": "stdout",
     "output_type": "stream",
     "text": [
      "Epoch 28 \t Training Loss: 0.351387 \t Validation Loss: 0.327285 \t Validation Accuracy: 86\n",
      "Validation Loss Decreased(0.352012--->0.327285) \t Saving The Model\n"
     ]
    },
    {
     "name": "stderr",
     "output_type": "stream",
     "text": [
      "  0%|                                                                                          | 0/131 [00:00<?, ?it/s]"
     ]
    },
    {
     "name": "stdout",
     "output_type": "stream",
     "text": [
      "Epoch 29 \t Training Loss: 0.350806 \t Validation Loss: 0.356662 \t Validation Accuracy: 84\n"
     ]
    },
    {
     "name": "stderr",
     "output_type": "stream",
     "text": [
      "  0%|                                                                                          | 0/131 [00:00<?, ?it/s]"
     ]
    },
    {
     "name": "stdout",
     "output_type": "stream",
     "text": [
      "Epoch 30 \t Training Loss: 0.350844 \t Validation Loss: 0.341473 \t Validation Accuracy: 85\n"
     ]
    },
    {
     "name": "stderr",
     "output_type": "stream",
     "text": [
      "  0%|                                                                                          | 0/131 [00:00<?, ?it/s]"
     ]
    },
    {
     "name": "stdout",
     "output_type": "stream",
     "text": [
      "Epoch 31 \t Training Loss: 0.331297 \t Validation Loss: 0.317426 \t Validation Accuracy: 87\n",
      "Validation Loss Decreased(0.327285--->0.317426) \t Saving The Model\n"
     ]
    },
    {
     "name": "stderr",
     "output_type": "stream",
     "text": [
      "  0%|                                                                                          | 0/131 [00:00<?, ?it/s]"
     ]
    },
    {
     "name": "stdout",
     "output_type": "stream",
     "text": [
      "Epoch 32 \t Training Loss: 0.329886 \t Validation Loss: 0.299356 \t Validation Accuracy: 87\n",
      "Validation Loss Decreased(0.317426--->0.299356) \t Saving The Model\n"
     ]
    },
    {
     "name": "stderr",
     "output_type": "stream",
     "text": [
      "  0%|                                                                                          | 0/131 [00:00<?, ?it/s]"
     ]
    },
    {
     "name": "stdout",
     "output_type": "stream",
     "text": [
      "Epoch 33 \t Training Loss: 0.336091 \t Validation Loss: 0.325912 \t Validation Accuracy: 84\n"
     ]
    },
    {
     "name": "stderr",
     "output_type": "stream",
     "text": [
      "  0%|                                                                                          | 0/131 [00:00<?, ?it/s]"
     ]
    },
    {
     "name": "stdout",
     "output_type": "stream",
     "text": [
      "Epoch 34 \t Training Loss: 0.336745 \t Validation Loss: 0.306470 \t Validation Accuracy: 88\n"
     ]
    },
    {
     "name": "stderr",
     "output_type": "stream",
     "text": [
      "  0%|                                                                                          | 0/131 [00:00<?, ?it/s]"
     ]
    },
    {
     "name": "stdout",
     "output_type": "stream",
     "text": [
      "Epoch 35 \t Training Loss: 0.323846 \t Validation Loss: 0.306929 \t Validation Accuracy: 87\n"
     ]
    },
    {
     "name": "stderr",
     "output_type": "stream",
     "text": [
      "  0%|                                                                                          | 0/131 [00:00<?, ?it/s]"
     ]
    },
    {
     "name": "stdout",
     "output_type": "stream",
     "text": [
      "Epoch 36 \t Training Loss: 0.320147 \t Validation Loss: 0.300268 \t Validation Accuracy: 88\n"
     ]
    },
    {
     "name": "stderr",
     "output_type": "stream",
     "text": [
      "  0%|                                                                                          | 0/131 [00:00<?, ?it/s]"
     ]
    },
    {
     "name": "stdout",
     "output_type": "stream",
     "text": [
      "Epoch 37 \t Training Loss: 0.324507 \t Validation Loss: 0.303163 \t Validation Accuracy: 88\n"
     ]
    },
    {
     "name": "stderr",
     "output_type": "stream",
     "text": [
      "  0%|                                                                                          | 0/131 [00:00<?, ?it/s]"
     ]
    },
    {
     "name": "stdout",
     "output_type": "stream",
     "text": [
      "Epoch 38 \t Training Loss: 0.312306 \t Validation Loss: 0.319400 \t Validation Accuracy: 88\n"
     ]
    },
    {
     "name": "stderr",
     "output_type": "stream",
     "text": [
      "  0%|                                                                                          | 0/131 [00:00<?, ?it/s]"
     ]
    },
    {
     "name": "stdout",
     "output_type": "stream",
     "text": [
      "Epoch 39 \t Training Loss: 0.319266 \t Validation Loss: 0.283110 \t Validation Accuracy: 88\n",
      "Validation Loss Decreased(0.299356--->0.283110) \t Saving The Model\n"
     ]
    },
    {
     "name": "stderr",
     "output_type": "stream",
     "text": [
      "  0%|                                                                                          | 0/131 [00:00<?, ?it/s]"
     ]
    },
    {
     "name": "stdout",
     "output_type": "stream",
     "text": [
      "Epoch 40 \t Training Loss: 0.315638 \t Validation Loss: 0.311437 \t Validation Accuracy: 85\n"
     ]
    },
    {
     "name": "stderr",
     "output_type": "stream",
     "text": [
      "  0%|                                                                                          | 0/131 [00:00<?, ?it/s]"
     ]
    },
    {
     "name": "stdout",
     "output_type": "stream",
     "text": [
      "Epoch 41 \t Training Loss: 0.298525 \t Validation Loss: 0.341591 \t Validation Accuracy: 84\n"
     ]
    },
    {
     "name": "stderr",
     "output_type": "stream",
     "text": [
      "  0%|                                                                                          | 0/131 [00:00<?, ?it/s]"
     ]
    },
    {
     "name": "stdout",
     "output_type": "stream",
     "text": [
      "Epoch 42 \t Training Loss: 0.309156 \t Validation Loss: 0.304331 \t Validation Accuracy: 86\n"
     ]
    },
    {
     "name": "stderr",
     "output_type": "stream",
     "text": [
      "  0%|                                                                                          | 0/131 [00:00<?, ?it/s]"
     ]
    },
    {
     "name": "stdout",
     "output_type": "stream",
     "text": [
      "Epoch 43 \t Training Loss: 0.313300 \t Validation Loss: 0.290542 \t Validation Accuracy: 87\n"
     ]
    },
    {
     "name": "stderr",
     "output_type": "stream",
     "text": [
      "  0%|                                                                                          | 0/131 [00:00<?, ?it/s]"
     ]
    },
    {
     "name": "stdout",
     "output_type": "stream",
     "text": [
      "Epoch 44 \t Training Loss: 0.300711 \t Validation Loss: 0.289844 \t Validation Accuracy: 90\n"
     ]
    },
    {
     "name": "stderr",
     "output_type": "stream",
     "text": [
      "  0%|                                                                                          | 0/131 [00:00<?, ?it/s]"
     ]
    },
    {
     "name": "stdout",
     "output_type": "stream",
     "text": [
      "Epoch 45 \t Training Loss: 0.279039 \t Validation Loss: 0.280549 \t Validation Accuracy: 90\n",
      "Validation Loss Decreased(0.283110--->0.280549) \t Saving The Model\n"
     ]
    },
    {
     "name": "stderr",
     "output_type": "stream",
     "text": [
      "  0%|                                                                                          | 0/131 [00:00<?, ?it/s]"
     ]
    },
    {
     "name": "stdout",
     "output_type": "stream",
     "text": [
      "Epoch 46 \t Training Loss: 0.286673 \t Validation Loss: 0.286339 \t Validation Accuracy: 87\n"
     ]
    },
    {
     "name": "stderr",
     "output_type": "stream",
     "text": [
      "  0%|                                                                                          | 0/131 [00:00<?, ?it/s]"
     ]
    },
    {
     "name": "stdout",
     "output_type": "stream",
     "text": [
      "Epoch 47 \t Training Loss: 0.295177 \t Validation Loss: 0.281781 \t Validation Accuracy: 90\n"
     ]
    },
    {
     "name": "stderr",
     "output_type": "stream",
     "text": [
      "  0%|                                                                                          | 0/131 [00:00<?, ?it/s]"
     ]
    },
    {
     "name": "stdout",
     "output_type": "stream",
     "text": [
      "Epoch 48 \t Training Loss: 0.292578 \t Validation Loss: 0.334179 \t Validation Accuracy: 84\n"
     ]
    },
    {
     "name": "stderr",
     "output_type": "stream",
     "text": [
      "  0%|                                                                                          | 0/131 [00:00<?, ?it/s]"
     ]
    },
    {
     "name": "stdout",
     "output_type": "stream",
     "text": [
      "Epoch 49 \t Training Loss: 0.276740 \t Validation Loss: 0.290803 \t Validation Accuracy: 87\n"
     ]
    },
    {
     "name": "stderr",
     "output_type": "stream",
     "text": [
      "  0%|                                                                                          | 0/131 [00:00<?, ?it/s]"
     ]
    },
    {
     "name": "stdout",
     "output_type": "stream",
     "text": [
      "Epoch 50 \t Training Loss: 0.269655 \t Validation Loss: 0.275470 \t Validation Accuracy: 90\n",
      "Validation Loss Decreased(0.280549--->0.275470) \t Saving The Model\n"
     ]
    },
    {
     "name": "stderr",
     "output_type": "stream",
     "text": [
      "  0%|                                                                                          | 0/131 [00:00<?, ?it/s]"
     ]
    },
    {
     "name": "stdout",
     "output_type": "stream",
     "text": [
      "Epoch 51 \t Training Loss: 0.270219 \t Validation Loss: 0.296375 \t Validation Accuracy: 85\n"
     ]
    },
    {
     "name": "stderr",
     "output_type": "stream",
     "text": [
      "  0%|                                                                                          | 0/131 [00:00<?, ?it/s]"
     ]
    },
    {
     "name": "stdout",
     "output_type": "stream",
     "text": [
      "Epoch 52 \t Training Loss: 0.262224 \t Validation Loss: 0.299950 \t Validation Accuracy: 86\n"
     ]
    },
    {
     "name": "stderr",
     "output_type": "stream",
     "text": [
      "  0%|                                                                                          | 0/131 [00:00<?, ?it/s]"
     ]
    },
    {
     "name": "stdout",
     "output_type": "stream",
     "text": [
      "Epoch 53 \t Training Loss: 0.264262 \t Validation Loss: 0.270439 \t Validation Accuracy: 89\n",
      "Validation Loss Decreased(0.275470--->0.270439) \t Saving The Model\n"
     ]
    },
    {
     "name": "stderr",
     "output_type": "stream",
     "text": [
      "  0%|                                                                                          | 0/131 [00:00<?, ?it/s]"
     ]
    },
    {
     "name": "stdout",
     "output_type": "stream",
     "text": [
      "Epoch 54 \t Training Loss: 0.256020 \t Validation Loss: 0.290316 \t Validation Accuracy: 86\n"
     ]
    },
    {
     "name": "stderr",
     "output_type": "stream",
     "text": [
      "  0%|                                                                                          | 0/131 [00:00<?, ?it/s]"
     ]
    },
    {
     "name": "stdout",
     "output_type": "stream",
     "text": [
      "Epoch 55 \t Training Loss: 0.283154 \t Validation Loss: 0.279928 \t Validation Accuracy: 87\n"
     ]
    },
    {
     "name": "stderr",
     "output_type": "stream",
     "text": [
      "  0%|                                                                                          | 0/131 [00:00<?, ?it/s]"
     ]
    },
    {
     "name": "stdout",
     "output_type": "stream",
     "text": [
      "Epoch 56 \t Training Loss: 0.252400 \t Validation Loss: 0.268911 \t Validation Accuracy: 90\n",
      "Validation Loss Decreased(0.270439--->0.268911) \t Saving The Model\n"
     ]
    },
    {
     "name": "stderr",
     "output_type": "stream",
     "text": [
      "  0%|                                                                                          | 0/131 [00:00<?, ?it/s]"
     ]
    },
    {
     "name": "stdout",
     "output_type": "stream",
     "text": [
      "Epoch 57 \t Training Loss: 0.255271 \t Validation Loss: 0.272784 \t Validation Accuracy: 87\n"
     ]
    },
    {
     "name": "stderr",
     "output_type": "stream",
     "text": [
      "  0%|                                                                                          | 0/131 [00:00<?, ?it/s]"
     ]
    },
    {
     "name": "stdout",
     "output_type": "stream",
     "text": [
      "Epoch 58 \t Training Loss: 0.270064 \t Validation Loss: 0.261967 \t Validation Accuracy: 89\n",
      "Validation Loss Decreased(0.268911--->0.261967) \t Saving The Model\n"
     ]
    },
    {
     "name": "stderr",
     "output_type": "stream",
     "text": [
      "  0%|                                                                                          | 0/131 [00:00<?, ?it/s]"
     ]
    },
    {
     "name": "stdout",
     "output_type": "stream",
     "text": [
      "Epoch 59 \t Training Loss: 0.253721 \t Validation Loss: 0.251426 \t Validation Accuracy: 91\n",
      "Validation Loss Decreased(0.261967--->0.251426) \t Saving The Model\n"
     ]
    },
    {
     "name": "stderr",
     "output_type": "stream",
     "text": [
      "  0%|                                                                                          | 0/131 [00:00<?, ?it/s]"
     ]
    },
    {
     "name": "stdout",
     "output_type": "stream",
     "text": [
      "Epoch 60 \t Training Loss: 0.256292 \t Validation Loss: 0.248712 \t Validation Accuracy: 91\n",
      "Validation Loss Decreased(0.251426--->0.248712) \t Saving The Model\n"
     ]
    },
    {
     "name": "stderr",
     "output_type": "stream",
     "text": [
      "  0%|                                                                                          | 0/131 [00:00<?, ?it/s]"
     ]
    },
    {
     "name": "stdout",
     "output_type": "stream",
     "text": [
      "Epoch 61 \t Training Loss: 0.249392 \t Validation Loss: 0.247549 \t Validation Accuracy: 91\n",
      "Validation Loss Decreased(0.248712--->0.247549) \t Saving The Model\n"
     ]
    },
    {
     "name": "stderr",
     "output_type": "stream",
     "text": [
      "  0%|                                                                                          | 0/131 [00:00<?, ?it/s]"
     ]
    },
    {
     "name": "stdout",
     "output_type": "stream",
     "text": [
      "Epoch 62 \t Training Loss: 0.246855 \t Validation Loss: 0.321358 \t Validation Accuracy: 86\n"
     ]
    },
    {
     "name": "stderr",
     "output_type": "stream",
     "text": [
      "  0%|                                                                                          | 0/131 [00:00<?, ?it/s]"
     ]
    },
    {
     "name": "stdout",
     "output_type": "stream",
     "text": [
      "Epoch 63 \t Training Loss: 0.252742 \t Validation Loss: 0.265026 \t Validation Accuracy: 88\n"
     ]
    },
    {
     "name": "stderr",
     "output_type": "stream",
     "text": [
      "  0%|                                                                                          | 0/131 [00:00<?, ?it/s]"
     ]
    },
    {
     "name": "stdout",
     "output_type": "stream",
     "text": [
      "Epoch 64 \t Training Loss: 0.235320 \t Validation Loss: 0.253192 \t Validation Accuracy: 89\n"
     ]
    },
    {
     "name": "stderr",
     "output_type": "stream",
     "text": [
      "  0%|                                                                                          | 0/131 [00:00<?, ?it/s]"
     ]
    },
    {
     "name": "stdout",
     "output_type": "stream",
     "text": [
      "Epoch 65 \t Training Loss: 0.234816 \t Validation Loss: 0.255869 \t Validation Accuracy: 91\n"
     ]
    },
    {
     "name": "stderr",
     "output_type": "stream",
     "text": [
      "  0%|                                                                                          | 0/131 [00:00<?, ?it/s]"
     ]
    },
    {
     "name": "stdout",
     "output_type": "stream",
     "text": [
      "Epoch 66 \t Training Loss: 0.247441 \t Validation Loss: 0.298158 \t Validation Accuracy: 88\n"
     ]
    },
    {
     "name": "stderr",
     "output_type": "stream",
     "text": [
      "  0%|                                                                                          | 0/131 [00:00<?, ?it/s]"
     ]
    },
    {
     "name": "stdout",
     "output_type": "stream",
     "text": [
      "Epoch 67 \t Training Loss: 0.235943 \t Validation Loss: 0.266149 \t Validation Accuracy: 91\n"
     ]
    },
    {
     "name": "stderr",
     "output_type": "stream",
     "text": [
      "  0%|                                                                                          | 0/131 [00:00<?, ?it/s]"
     ]
    },
    {
     "name": "stdout",
     "output_type": "stream",
     "text": [
      "Epoch 68 \t Training Loss: 0.244051 \t Validation Loss: 0.273600 \t Validation Accuracy: 89\n"
     ]
    },
    {
     "name": "stderr",
     "output_type": "stream",
     "text": [
      "  0%|                                                                                          | 0/131 [00:00<?, ?it/s]"
     ]
    },
    {
     "name": "stdout",
     "output_type": "stream",
     "text": [
      "Epoch 69 \t Training Loss: 0.224992 \t Validation Loss: 0.247001 \t Validation Accuracy: 91\n",
      "Validation Loss Decreased(0.247549--->0.247001) \t Saving The Model\n"
     ]
    },
    {
     "name": "stderr",
     "output_type": "stream",
     "text": [
      "  0%|                                                                                          | 0/131 [00:00<?, ?it/s]"
     ]
    },
    {
     "name": "stdout",
     "output_type": "stream",
     "text": [
      "Epoch 70 \t Training Loss: 0.237056 \t Validation Loss: 0.286616 \t Validation Accuracy: 90\n"
     ]
    },
    {
     "name": "stderr",
     "output_type": "stream",
     "text": [
      "  0%|                                                                                          | 0/131 [00:00<?, ?it/s]"
     ]
    },
    {
     "name": "stdout",
     "output_type": "stream",
     "text": [
      "Epoch 71 \t Training Loss: 0.216138 \t Validation Loss: 0.281241 \t Validation Accuracy: 88\n"
     ]
    },
    {
     "name": "stderr",
     "output_type": "stream",
     "text": [
      "  0%|                                                                                          | 0/131 [00:00<?, ?it/s]"
     ]
    },
    {
     "name": "stdout",
     "output_type": "stream",
     "text": [
      "Epoch 72 \t Training Loss: 0.222770 \t Validation Loss: 0.250118 \t Validation Accuracy: 90\n"
     ]
    },
    {
     "name": "stderr",
     "output_type": "stream",
     "text": [
      "  0%|                                                                                          | 0/131 [00:00<?, ?it/s]"
     ]
    },
    {
     "name": "stdout",
     "output_type": "stream",
     "text": [
      "Epoch 73 \t Training Loss: 0.216351 \t Validation Loss: 0.259435 \t Validation Accuracy: 89\n"
     ]
    },
    {
     "name": "stderr",
     "output_type": "stream",
     "text": [
      "  0%|                                                                                          | 0/131 [00:00<?, ?it/s]"
     ]
    },
    {
     "name": "stdout",
     "output_type": "stream",
     "text": [
      "Epoch 74 \t Training Loss: 0.228057 \t Validation Loss: 0.281845 \t Validation Accuracy: 89\n"
     ]
    },
    {
     "name": "stderr",
     "output_type": "stream",
     "text": [
      "  0%|                                                                                          | 0/131 [00:00<?, ?it/s]"
     ]
    },
    {
     "name": "stdout",
     "output_type": "stream",
     "text": [
      "Epoch 75 \t Training Loss: 0.223140 \t Validation Loss: 0.248931 \t Validation Accuracy: 92\n"
     ]
    },
    {
     "name": "stderr",
     "output_type": "stream",
     "text": [
      "  0%|                                                                                          | 0/131 [00:00<?, ?it/s]"
     ]
    },
    {
     "name": "stdout",
     "output_type": "stream",
     "text": [
      "Epoch 76 \t Training Loss: 0.225421 \t Validation Loss: 0.262417 \t Validation Accuracy: 89\n"
     ]
    },
    {
     "name": "stderr",
     "output_type": "stream",
     "text": [
      "  0%|                                                                                          | 0/131 [00:00<?, ?it/s]"
     ]
    },
    {
     "name": "stdout",
     "output_type": "stream",
     "text": [
      "Epoch 77 \t Training Loss: 0.221211 \t Validation Loss: 0.239664 \t Validation Accuracy: 91\n",
      "Validation Loss Decreased(0.247001--->0.239664) \t Saving The Model\n"
     ]
    },
    {
     "name": "stderr",
     "output_type": "stream",
     "text": [
      "  0%|                                                                                          | 0/131 [00:00<?, ?it/s]"
     ]
    },
    {
     "name": "stdout",
     "output_type": "stream",
     "text": [
      "Epoch 78 \t Training Loss: 0.199174 \t Validation Loss: 0.254587 \t Validation Accuracy: 91\n"
     ]
    },
    {
     "name": "stderr",
     "output_type": "stream",
     "text": [
      "  0%|                                                                                          | 0/131 [00:00<?, ?it/s]"
     ]
    },
    {
     "name": "stdout",
     "output_type": "stream",
     "text": [
      "Epoch 79 \t Training Loss: 0.216505 \t Validation Loss: 0.257372 \t Validation Accuracy: 89\n"
     ]
    },
    {
     "name": "stderr",
     "output_type": "stream",
     "text": [
      "  0%|                                                                                          | 0/131 [00:00<?, ?it/s]"
     ]
    },
    {
     "name": "stdout",
     "output_type": "stream",
     "text": [
      "Epoch 80 \t Training Loss: 0.200054 \t Validation Loss: 0.238799 \t Validation Accuracy: 91\n",
      "Validation Loss Decreased(0.239664--->0.238799) \t Saving The Model\n"
     ]
    },
    {
     "name": "stderr",
     "output_type": "stream",
     "text": [
      "  0%|                                                                                          | 0/131 [00:00<?, ?it/s]"
     ]
    },
    {
     "name": "stdout",
     "output_type": "stream",
     "text": [
      "Epoch 81 \t Training Loss: 0.217517 \t Validation Loss: 0.240358 \t Validation Accuracy: 91\n"
     ]
    },
    {
     "name": "stderr",
     "output_type": "stream",
     "text": [
      "  0%|                                                                                          | 0/131 [00:00<?, ?it/s]"
     ]
    },
    {
     "name": "stdout",
     "output_type": "stream",
     "text": [
      "Epoch 82 \t Training Loss: 0.194435 \t Validation Loss: 0.255125 \t Validation Accuracy: 92\n"
     ]
    },
    {
     "name": "stderr",
     "output_type": "stream",
     "text": [
      "  0%|                                                                                          | 0/131 [00:00<?, ?it/s]"
     ]
    },
    {
     "name": "stdout",
     "output_type": "stream",
     "text": [
      "Epoch 83 \t Training Loss: 0.208508 \t Validation Loss: 0.308993 \t Validation Accuracy: 87\n"
     ]
    },
    {
     "name": "stderr",
     "output_type": "stream",
     "text": [
      "  0%|                                                                                          | 0/131 [00:00<?, ?it/s]"
     ]
    },
    {
     "name": "stdout",
     "output_type": "stream",
     "text": [
      "Epoch 84 \t Training Loss: 0.184696 \t Validation Loss: 0.253108 \t Validation Accuracy: 91\n"
     ]
    },
    {
     "name": "stderr",
     "output_type": "stream",
     "text": [
      "  0%|                                                                                          | 0/131 [00:00<?, ?it/s]"
     ]
    },
    {
     "name": "stdout",
     "output_type": "stream",
     "text": [
      "Epoch 85 \t Training Loss: 0.188831 \t Validation Loss: 0.259095 \t Validation Accuracy: 92\n"
     ]
    },
    {
     "name": "stderr",
     "output_type": "stream",
     "text": [
      "  0%|                                                                                          | 0/131 [00:00<?, ?it/s]"
     ]
    },
    {
     "name": "stdout",
     "output_type": "stream",
     "text": [
      "Epoch 86 \t Training Loss: 0.189958 \t Validation Loss: 0.273928 \t Validation Accuracy: 88\n"
     ]
    },
    {
     "name": "stderr",
     "output_type": "stream",
     "text": [
      "  0%|                                                                                          | 0/131 [00:00<?, ?it/s]"
     ]
    },
    {
     "name": "stdout",
     "output_type": "stream",
     "text": [
      "Epoch 87 \t Training Loss: 0.189703 \t Validation Loss: 0.234528 \t Validation Accuracy: 90\n",
      "Validation Loss Decreased(0.238799--->0.234528) \t Saving The Model\n"
     ]
    },
    {
     "name": "stderr",
     "output_type": "stream",
     "text": [
      "  0%|                                                                                          | 0/131 [00:00<?, ?it/s]"
     ]
    },
    {
     "name": "stdout",
     "output_type": "stream",
     "text": [
      "Epoch 88 \t Training Loss: 0.188210 \t Validation Loss: 0.302177 \t Validation Accuracy: 88\n"
     ]
    },
    {
     "name": "stderr",
     "output_type": "stream",
     "text": [
      "  0%|                                                                                          | 0/131 [00:00<?, ?it/s]"
     ]
    },
    {
     "name": "stdout",
     "output_type": "stream",
     "text": [
      "Epoch 89 \t Training Loss: 0.191865 \t Validation Loss: 0.259140 \t Validation Accuracy: 90\n"
     ]
    },
    {
     "name": "stderr",
     "output_type": "stream",
     "text": [
      "  0%|                                                                                          | 0/131 [00:00<?, ?it/s]"
     ]
    },
    {
     "name": "stdout",
     "output_type": "stream",
     "text": [
      "Epoch 90 \t Training Loss: 0.162253 \t Validation Loss: 0.298777 \t Validation Accuracy: 90\n"
     ]
    },
    {
     "name": "stderr",
     "output_type": "stream",
     "text": [
      "  0%|                                                                                          | 0/131 [00:00<?, ?it/s]"
     ]
    },
    {
     "name": "stdout",
     "output_type": "stream",
     "text": [
      "Epoch 91 \t Training Loss: 0.171929 \t Validation Loss: 0.274296 \t Validation Accuracy: 90\n"
     ]
    },
    {
     "name": "stderr",
     "output_type": "stream",
     "text": [
      "  0%|                                                                                          | 0/131 [00:00<?, ?it/s]"
     ]
    },
    {
     "name": "stdout",
     "output_type": "stream",
     "text": [
      "Epoch 92 \t Training Loss: 0.172213 \t Validation Loss: 0.241179 \t Validation Accuracy: 91\n"
     ]
    },
    {
     "name": "stderr",
     "output_type": "stream",
     "text": [
      "  0%|                                                                                          | 0/131 [00:00<?, ?it/s]"
     ]
    },
    {
     "name": "stdout",
     "output_type": "stream",
     "text": [
      "Epoch 93 \t Training Loss: 0.164484 \t Validation Loss: 0.242949 \t Validation Accuracy: 91\n"
     ]
    },
    {
     "name": "stderr",
     "output_type": "stream",
     "text": [
      "  0%|                                                                                          | 0/131 [00:00<?, ?it/s]"
     ]
    },
    {
     "name": "stdout",
     "output_type": "stream",
     "text": [
      "Epoch 94 \t Training Loss: 0.183248 \t Validation Loss: 0.295553 \t Validation Accuracy: 87\n"
     ]
    },
    {
     "name": "stderr",
     "output_type": "stream",
     "text": [
      "  0%|                                                                                          | 0/131 [00:00<?, ?it/s]"
     ]
    },
    {
     "name": "stdout",
     "output_type": "stream",
     "text": [
      "Epoch 95 \t Training Loss: 0.172018 \t Validation Loss: 0.255390 \t Validation Accuracy: 89\n"
     ]
    },
    {
     "name": "stderr",
     "output_type": "stream",
     "text": [
      "  0%|                                                                                          | 0/131 [00:00<?, ?it/s]"
     ]
    },
    {
     "name": "stdout",
     "output_type": "stream",
     "text": [
      "Epoch 96 \t Training Loss: 0.179987 \t Validation Loss: 0.242062 \t Validation Accuracy: 90\n"
     ]
    },
    {
     "name": "stderr",
     "output_type": "stream",
     "text": [
      "  0%|                                                                                          | 0/131 [00:00<?, ?it/s]"
     ]
    },
    {
     "name": "stdout",
     "output_type": "stream",
     "text": [
      "Epoch 97 \t Training Loss: 0.160788 \t Validation Loss: 0.248320 \t Validation Accuracy: 90\n"
     ]
    },
    {
     "name": "stderr",
     "output_type": "stream",
     "text": [
      "  0%|                                                                                          | 0/131 [00:00<?, ?it/s]"
     ]
    },
    {
     "name": "stdout",
     "output_type": "stream",
     "text": [
      "Epoch 98 \t Training Loss: 0.168562 \t Validation Loss: 0.250365 \t Validation Accuracy: 91\n"
     ]
    },
    {
     "name": "stderr",
     "output_type": "stream",
     "text": [
      "  0%|                                                                                          | 0/131 [00:00<?, ?it/s]"
     ]
    },
    {
     "name": "stdout",
     "output_type": "stream",
     "text": [
      "Epoch 99 \t Training Loss: 0.170397 \t Validation Loss: 0.238101 \t Validation Accuracy: 92\n"
     ]
    },
    {
     "name": "stderr",
     "output_type": "stream",
     "text": [
      "  0%|                                                                                          | 0/131 [00:00<?, ?it/s]"
     ]
    },
    {
     "name": "stdout",
     "output_type": "stream",
     "text": [
      "Epoch 100 \t Training Loss: 0.171555 \t Validation Loss: 0.258078 \t Validation Accuracy: 89\n"
     ]
    },
    {
     "name": "stderr",
     "output_type": "stream",
     "text": [
      "  0%|                                                                                          | 0/131 [00:00<?, ?it/s]"
     ]
    },
    {
     "name": "stdout",
     "output_type": "stream",
     "text": [
      "Epoch 101 \t Training Loss: 0.166883 \t Validation Loss: 0.361478 \t Validation Accuracy: 86\n"
     ]
    },
    {
     "name": "stderr",
     "output_type": "stream",
     "text": [
      "  0%|                                                                                          | 0/131 [00:00<?, ?it/s]"
     ]
    },
    {
     "name": "stdout",
     "output_type": "stream",
     "text": [
      "Epoch 102 \t Training Loss: 0.159568 \t Validation Loss: 0.318094 \t Validation Accuracy: 90\n"
     ]
    },
    {
     "name": "stderr",
     "output_type": "stream",
     "text": [
      "  0%|                                                                                          | 0/131 [00:00<?, ?it/s]"
     ]
    },
    {
     "name": "stdout",
     "output_type": "stream",
     "text": [
      "Epoch 103 \t Training Loss: 0.150194 \t Validation Loss: 0.290532 \t Validation Accuracy: 90\n"
     ]
    },
    {
     "name": "stderr",
     "output_type": "stream",
     "text": [
      "  0%|                                                                                          | 0/131 [00:00<?, ?it/s]"
     ]
    },
    {
     "name": "stdout",
     "output_type": "stream",
     "text": [
      "Epoch 104 \t Training Loss: 0.160735 \t Validation Loss: 0.269459 \t Validation Accuracy: 91\n"
     ]
    },
    {
     "name": "stderr",
     "output_type": "stream",
     "text": [
      "  0%|                                                                                          | 0/131 [00:00<?, ?it/s]"
     ]
    },
    {
     "name": "stdout",
     "output_type": "stream",
     "text": [
      "Epoch 105 \t Training Loss: 0.165888 \t Validation Loss: 0.267559 \t Validation Accuracy: 91\n"
     ]
    },
    {
     "name": "stderr",
     "output_type": "stream",
     "text": [
      "  0%|                                                                                          | 0/131 [00:00<?, ?it/s]"
     ]
    },
    {
     "name": "stdout",
     "output_type": "stream",
     "text": [
      "Epoch 106 \t Training Loss: 0.177014 \t Validation Loss: 0.283916 \t Validation Accuracy: 89\n"
     ]
    },
    {
     "name": "stderr",
     "output_type": "stream",
     "text": [
      " 31%|█████████████████████████▎                                                       | 41/131 [00:22<00:39,  2.27it/s]"
     ]
    }
   ],
   "source": [
    "#Starting Time \n",
    "train_start = start_time_()\n",
    "\n",
    "\n",
    "#Training Iterations\n",
    "#==========================================================================\n",
    "for epoch in range(epochs):  # loop over the dataset multiple times\n",
    "    \n",
    "    \n",
    "    #model training\n",
    "    #______________________________________________________\n",
    "    running_loss = 0.0\n",
    "    cnn.train()\n",
    "    for data, labels in tqdm(train_loader, leave=False):\n",
    "        data, labels = data.to(device), labels.to(device)\n",
    "\n",
    "        # zero the parameter gradients\n",
    "        optimizer.zero_grad()\n",
    "\n",
    "        # forward + backward + optimize\n",
    "        outputs = cnn(data)\n",
    "        loss = criterion(outputs, labels)\n",
    "        loss.backward()\n",
    "        optimizer.step()\n",
    "        running_loss += loss.item()*data.size(0)\n",
    "    \n",
    "    \n",
    "    #model validation\n",
    "    #______________________________________________________\n",
    "    valid_loss = 0.0\n",
    "    val_correct = 0\n",
    "    cnn.eval()\n",
    "    for data, labels in tqdm(val_loader, leave=False):\n",
    "        data, labels = data.to(device), labels.to(device)\n",
    "        \n",
    "        outputs = cnn(data)\n",
    "        loss = criterion(outputs, labels)\n",
    "        valid_loss += loss.item()*data.size(0)\n",
    "        \n",
    "        # get val_accuracy every epoch\n",
    "        # the class with the highest energy is what we choose as prediction\n",
    "        _, predicted = torch.max(outputs.data, 1)\n",
    "        val_correct += (predicted == labels).sum().item()\n",
    "    \n",
    "    \n",
    "    #metrics\n",
    "    #______________________________________________________\n",
    "    train_loss.append(running_loss / len(train_dataset))\n",
    "    validation_loss.append(valid_loss / len(val_dataset))\n",
    "    val_accuracy = int(100 * val_correct / len(val_dataset))\n",
    "\n",
    "    \n",
    "    #console output for tracking\n",
    "    #______________________________________________________\n",
    "    console = f'Epoch {epoch+1} \\t Training Loss: {(running_loss / len(train_dataset)):.6f} \\t Validation Loss: {(valid_loss / len(val_dataset)):.6f} \\t Validation Accuracy: {val_accuracy}%'\n",
    "    print(console,file=f)\n",
    "    print(console)\n",
    "     \n",
    "    if min_valid_loss > (valid_loss / len(val_dataset)):\n",
    "        saved = f'Validation Loss Decreased({min_valid_loss:.6f}--->{(valid_loss / len(val_dataset)):.6f}) \\t Saving The Model'\n",
    "        print(saved, file=f)\n",
    "        print(saved)\n",
    "        min_valid_loss = (valid_loss / len(val_dataset))\n",
    "         \n",
    "        # Saving State Dict\n",
    "        torch.save(cnn.state_dict(), f'models/{version}/cnn_net_b{batch_size}_e{epochs}.pth') \n",
    "        \n",
    "        \n",
    "#==========================================================================\n",
    "\n",
    "\n",
    "print('Finished Training','\\n', file=f)\n",
    "print('Finished Training')\n",
    "\n",
    "#End Time of Training\n",
    "train_end = end_time_()\n",
    "\n",
    "#Time needed for training\n",
    "print(\"Execution time of training:\", Execution_time(train_start, train_end),'\\n', file=f)\n",
    "print(\"Execution time of training:\", Execution_time(train_start, train_end))"
   ]
  },
  {
   "cell_type": "markdown",
   "id": "78705e07",
   "metadata": {},
   "source": [
    "### Show loss over epochs"
   ]
  },
  {
   "cell_type": "code",
   "execution_count": null,
   "id": "f65a510c",
   "metadata": {},
   "outputs": [],
   "source": [
    "plt.figure(figsize=(10,6))\n",
    "plt.plot(train_loss, label='Train_Loss')\n",
    "plt.plot(validation_loss, label='Validation_Loss')\n",
    "plt.xlabel('Epochs', fontsize=15)\n",
    "plt.ylabel('Loss', fontsize=15)\n",
    "plt.legend(fontsize=13)\n",
    "plt.tick_params(labelsize=12)\n",
    "plt.grid()\n",
    "plt.title('Loss Values', fontsize=18)\n",
    "plt.savefig(f'graphs/{version}/loss_b{batch_size}_e{epochs}.png', dpi=300)"
   ]
  },
  {
   "cell_type": "markdown",
   "id": "b085c099",
   "metadata": {},
   "source": [
    "### Testing\n",
    "#### Sample"
   ]
  },
  {
   "cell_type": "code",
   "execution_count": null,
   "id": "251677af",
   "metadata": {},
   "outputs": [],
   "source": [
    "#load a batch from the test set\n",
    "dataiter = iter(test_loader)\n",
    "images, labels = dataiter.next()\n",
    "images, labels = images.to(device), labels.to(device)\n",
    "\n",
    "#generate predictions of testloader samples\n",
    "#deactivate droptout layer with .eval()\n",
    "cnn.eval()                 \n",
    "outputs = cnn(images)\n",
    "\n",
    "#the class with the highest energy is what we choose as prediction\n",
    "_, predicted = torch.max(outputs, 1)\n",
    "\n",
    "for i in range(batch_size):\n",
    "    if classes[labels[i]] == classes[predicted[i]]:\n",
    "        boolean = 'Right'\n",
    "    else:\n",
    "        boolean = 'Wrong'\n",
    "    print(f'Truth: {classes[labels[i]]} \\t Prediction: {classes[predicted[i]]} \\t Result: {boolean}')\n",
    "    imshow(images[i])"
   ]
  },
  {
   "cell_type": "markdown",
   "id": "cd568710",
   "metadata": {},
   "source": [
    "#### Complete testset - final epoch"
   ]
  },
  {
   "cell_type": "code",
   "execution_count": null,
   "id": "90bd6600",
   "metadata": {
    "scrolled": true
   },
   "outputs": [],
   "source": [
    "correct = 0\n",
    "total = 0\n",
    "# since we're not training, we don't need to calculate the gradients for our outputs\n",
    "with torch.no_grad():\n",
    "    for data, labels in test_loader:\n",
    "        data, labels = data.to(device), labels.to(device)\n",
    "        \n",
    "        # calculate outputs by running images through the network\n",
    "        outputs = cnn(data)\n",
    "        # the class with the highest energy is what we choose as prediction\n",
    "        _, predicted = torch.max(outputs.data, 1)\n",
    "        total += labels.size(0)\n",
    "        correct += (predicted == labels).sum().item()\n",
    "\n",
    "print('Accuracy of the network on the 597 test images: %d %%' % (100 * correct / total),'\\n', file=f)\n",
    "print('Accuracy of the network on the 597 test images: %d %%' % (100 * correct / total))"
   ]
  },
  {
   "cell_type": "markdown",
   "id": "c3ba965a",
   "metadata": {},
   "source": [
    "#### Complete testset - best epoch"
   ]
  },
  {
   "cell_type": "code",
   "execution_count": null,
   "id": "0cb4f0fa",
   "metadata": {},
   "outputs": [],
   "source": [
    "#Loading the model\n",
    "cnn_best = CNN(pixel).to(device)\n",
    "cnn_best.load_state_dict(torch.load(f'models/{version}/cnn_net_b{batch_size}_e{epochs}.pth'))\n",
    "cnn.eval()\n",
    "\n",
    "correct = 0\n",
    "total = 0\n",
    "# since we're not training, we don't need to calculate the gradients for our outputs\n",
    "with torch.no_grad():\n",
    "    for data, labels in test_loader:\n",
    "        data, labels = data.to(device), labels.to(device)\n",
    "        \n",
    "        # calculate outputs by running images through the network\n",
    "        outputs = cnn_best(data)\n",
    "        # the class with the highest energy is what we choose as prediction\n",
    "        _, predicted = torch.max(outputs.data, 1)\n",
    "        total += labels.size(0)\n",
    "        correct += (predicted == labels).sum().item()\n",
    "accuracy = int(100 * correct / total)\n",
    "\n",
    "print('Accuracy of the network on the 597 test images with best iteration: %d %%' % (100 * correct / total),'\\n', file=f)\n",
    "print('Accuracy of the network on the 597 test images with best iteration: %d %%' % (100 * correct / total))"
   ]
  },
  {
   "cell_type": "markdown",
   "id": "af85f21e",
   "metadata": {},
   "source": [
    "### Script Runtime Result"
   ]
  },
  {
   "cell_type": "code",
   "execution_count": null,
   "id": "d01f3630",
   "metadata": {},
   "outputs": [],
   "source": [
    "#End Time of Training\n",
    "script_end = end_time_()\n",
    "\n",
    "#Time needed for script\n",
    "print(f'Execution time of script is : {Execution_time(script_start, script_end)} hh:mm:ss')"
   ]
  },
  {
   "cell_type": "markdown",
   "id": "d0f0e469",
   "metadata": {},
   "source": [
    "### Closing output textfile"
   ]
  },
  {
   "cell_type": "code",
   "execution_count": null,
   "id": "bb10cb2f",
   "metadata": {},
   "outputs": [],
   "source": [
    "f.close()"
   ]
  }
 ],
 "metadata": {
  "kernelspec": {
   "display_name": "Python 3",
   "language": "python",
   "name": "python3"
  },
  "language_info": {
   "codemirror_mode": {
    "name": "ipython",
    "version": 3
   },
   "file_extension": ".py",
   "mimetype": "text/x-python",
   "name": "python",
   "nbconvert_exporter": "python",
   "pygments_lexer": "ipython3",
   "version": "3.9.6"
  }
 },
 "nbformat": 4,
 "nbformat_minor": 5
}
