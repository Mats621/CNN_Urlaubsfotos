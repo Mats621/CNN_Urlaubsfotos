{
 "cells": [
  {
   "cell_type": "markdown",
   "id": "1dee9acb",
   "metadata": {},
   "source": [
    "## CNN Classifier V1 - Vacation Images\n",
    "This version uses 16 output channels after convolution. The script is kept simple without hyperparameter optimization.\n",
    "Models with different batch_size during loading the data will be saved with different name. \n",
    "\n",
    "### Imports"
   ]
  },
  {
   "cell_type": "code",
   "execution_count": 1,
   "id": "f933335a",
   "metadata": {},
   "outputs": [],
   "source": [
    "#general\n",
    "import numpy as np\n",
    "import splitfolders\n",
    "import time\n",
    "from datetime import datetime \n",
    "from time import gmtime, strftime\n",
    "from tqdm import tqdm\n",
    "\n",
    "#pytorch\n",
    "import torch\n",
    "import torch.optim as optim\n",
    "import torch.nn as nn\n",
    "import torch.nn.functional as F\n",
    "import torchvision\n",
    "import torchvision.transforms as T\n",
    "\n",
    "#visualization\n",
    "import matplotlib.pyplot as plt"
   ]
  },
  {
   "cell_type": "markdown",
   "id": "6bad1d19",
   "metadata": {},
   "source": [
    "### Script Runtime Start"
   ]
  },
  {
   "cell_type": "code",
   "execution_count": 2,
   "id": "e571a223",
   "metadata": {},
   "outputs": [],
   "source": [
    "def start_time_():    \n",
    "    start_time = time.time()\n",
    "    return(start_time)\n",
    "\n",
    "def end_time_():\n",
    "    end_time = time.time()\n",
    "    return(end_time)\n",
    "\n",
    "def Execution_time(start_time_,end_time_):\n",
    "    return(strftime(\"%H:%M:%S\",gmtime(int('{:.0f}'.format(float(str((end_time_-start_time_))))))))"
   ]
  },
  {
   "cell_type": "code",
   "execution_count": 3,
   "id": "4f267bf6",
   "metadata": {},
   "outputs": [],
   "source": [
    "script_start = start_time_()"
   ]
  },
  {
   "cell_type": "markdown",
   "id": "75fe40bc",
   "metadata": {},
   "source": [
    "### Initialize GPU"
   ]
  },
  {
   "cell_type": "code",
   "execution_count": 4,
   "id": "e70d447a",
   "metadata": {},
   "outputs": [
    {
     "name": "stdout",
     "output_type": "stream",
     "text": [
      "Using device: cuda\n"
     ]
    }
   ],
   "source": [
    "device = torch.device('cuda' if torch.cuda.is_available() else 'cpu')\n",
    "print('Using device:', device)"
   ]
  },
  {
   "cell_type": "markdown",
   "id": "6c7eb09f",
   "metadata": {},
   "source": [
    "### Creating Folder Structure"
   ]
  },
  {
   "cell_type": "markdown",
   "id": "632e57b9",
   "metadata": {},
   "source": [
    "The original folder containing the 2 subclass folder has to be split into subfolders for train, validation and test.\n",
    "\n",
    "`Original:`  \n",
    "* Data\n",
    "    * Person\n",
    "    * Scene\n",
    "---\n",
    "`New:`\n",
    "* Data\n",
    "    * train (70% of total)\n",
    "        * Person\n",
    "        * Scene\n",
    "    * val (10% of total)\n",
    "        * Person\n",
    "        * Scene\n",
    "    * test (20% of total)\n",
    "        * Person\n",
    "        * Scene"
   ]
  },
  {
   "cell_type": "code",
   "execution_count": 5,
   "id": "1c99b588",
   "metadata": {},
   "outputs": [],
   "source": [
    "## Following Code does the described above\n",
    "\n",
    "# input_folder = 'Data/'\n",
    "# output_folder = 'img_data/'\n",
    "\n",
    "# splitfolders.ratio(input_folder, output=output_folder, seed=1337, ratio=(0.7, 0.1, 0.2))"
   ]
  },
  {
   "cell_type": "code",
   "execution_count": 6,
   "id": "bce0b405",
   "metadata": {},
   "outputs": [],
   "source": [
    "#paths to be used for dataloaders later on\n",
    "path_to_train = './img_data/train/'\n",
    "path_to_val = './img_data/val/'\n",
    "path_to_test = './img_data/test/'"
   ]
  },
  {
   "cell_type": "markdown",
   "id": "e3ef23ff",
   "metadata": {},
   "source": [
    "### Define data tranformations"
   ]
  },
  {
   "cell_type": "code",
   "execution_count": 7,
   "id": "b5be7a45",
   "metadata": {},
   "outputs": [],
   "source": [
    "mean = [0.4939, 0.5189, 0.5326] #calculated in seperate notebook file\n",
    "std = [0.2264, 0.2398, 0.2707] #calculated in seperate notebook file\n",
    "\n",
    "\n",
    "#for training a litte augmentation (random flip, grayscale and rotation) will be performed\n",
    "train_transforms = T.Compose([\n",
    "    T.Resize([128,]),\n",
    "    T.CenterCrop([128,]),\n",
    "    T.RandomHorizontalFlip(0.3), \n",
    "    T.RandomGrayscale(0.1),\n",
    "    T.RandomRotation(30),\n",
    "    T.ToTensor(),\n",
    "    T.Normalize(torch.tensor(mean), torch.tensor(std))\n",
    "])\n",
    "\n",
    "#no augmentation needed, therefore only reszing, to tensor and normalizing\n",
    "val_transforms = T.Compose([\n",
    "    T.Resize([128,]),\n",
    "    T.CenterCrop([128,]),\n",
    "    T.ToTensor(),\n",
    "    T.Normalize(torch.tensor(mean), torch.tensor(std))\n",
    "])\n",
    "\n",
    "#no augmentation needed, therefore only reszing, to tensor and normalizing\n",
    "test_transforms = T.Compose([\n",
    "    T.Resize([128,]),\n",
    "    T.CenterCrop([128,]),\n",
    "    T.ToTensor(),\n",
    "    T.Normalize(torch.tensor(mean), torch.tensor(std))\n",
    "])"
   ]
  },
  {
   "cell_type": "markdown",
   "id": "8d9e1122",
   "metadata": {},
   "source": [
    "### Initialize Datasets (Train, Validation, Test)"
   ]
  },
  {
   "cell_type": "code",
   "execution_count": 8,
   "id": "e9f28981",
   "metadata": {},
   "outputs": [],
   "source": [
    "#Create datasets, labling is done with \"ImageFolder\"-Method\n",
    "train_dataset = torchvision.datasets.ImageFolder(root=path_to_train, transform=train_transforms)\n",
    "val_dataset = torchvision.datasets.ImageFolder(root=path_to_val, transform=val_transforms)\n",
    "test_dataset = torchvision.datasets.ImageFolder(root=path_to_test, transform=test_transforms)\n",
    "\n",
    "classes = ('person', 'scene')"
   ]
  },
  {
   "cell_type": "markdown",
   "id": "9cd9a074",
   "metadata": {},
   "source": [
    "### Initialize DataLoaders for the Datasets"
   ]
  },
  {
   "cell_type": "code",
   "execution_count": 9,
   "id": "84d72e56",
   "metadata": {},
   "outputs": [],
   "source": [
    "#Define Loaders\n",
    "\n",
    "\n",
    "\n",
    "#==============#\n",
    "batch_size = 4\n",
    "#==============#\n",
    "\n",
    "\n",
    "\n",
    "train_loader = torch.utils.data.DataLoader(dataset = train_dataset, batch_size=batch_size, shuffle=True)\n",
    "val_loader = torch.utils.data.DataLoader(dataset = val_dataset, batch_size=batch_size, shuffle=True)\n",
    "test_loader = torch.utils.data.DataLoader(dataset = test_dataset, batch_size=batch_size, shuffle=True)"
   ]
  },
  {
   "cell_type": "markdown",
   "id": "51d28b68",
   "metadata": {},
   "source": [
    "### Unnormalize pictures for visualization later"
   ]
  },
  {
   "cell_type": "code",
   "execution_count": 10,
   "id": "8a98f2b4",
   "metadata": {},
   "outputs": [],
   "source": [
    "class UnNormalize(object):\n",
    "    def __init__(self, mean, std):\n",
    "        self.mean = mean\n",
    "        self.std = std\n",
    "\n",
    "    def __call__(self, tensor):\n",
    "        \"\"\"\n",
    "        Args:\n",
    "            tensor (Tensor): Tensor image of size (C, H, W) to be normalized.\n",
    "        Returns:\n",
    "            Tensor: Normalized image.\n",
    "        \"\"\"\n",
    "        for t, m, s in zip(tensor, self.mean, self.std):\n",
    "            t.mul_(s).add_(m)\n",
    "            # The normalize code -> t.sub_(m).div_(s)\n",
    "        return tensor"
   ]
  },
  {
   "cell_type": "markdown",
   "id": "e803ebf4",
   "metadata": {},
   "source": [
    "### Define Image viewer"
   ]
  },
  {
   "cell_type": "code",
   "execution_count": 11,
   "id": "5b33f3f0",
   "metadata": {},
   "outputs": [],
   "source": [
    "def imshow(img):\n",
    "    de_norm = UnNormalize(mean=(0.4939, 0.5189, 0.5326), std=(0.2264, 0.2398, 0.2707))\n",
    "    img = de_norm(img)      # unnormalize\n",
    "    npimg = img.cpu().numpy()\n",
    "    plt.figure(figsize=(3,3))\n",
    "    plt.imshow(np.transpose(npimg, (1, 2, 0)))\n",
    "    plt.show()"
   ]
  },
  {
   "cell_type": "markdown",
   "id": "a7db420b",
   "metadata": {},
   "source": [
    "### Define CNN "
   ]
  },
  {
   "cell_type": "code",
   "execution_count": 12,
   "id": "4821b430",
   "metadata": {},
   "outputs": [],
   "source": [
    "class CNN(nn.Module):\n",
    "    \n",
    "    def __init__(self):\n",
    "        super(CNN, self).__init__()\n",
    "        self.conv1 = nn.Conv2d(3, 6, 5) #input_dim = 128, output_dim = 124\n",
    "        self.pool = nn.MaxPool2d(2,2) #(kernelsize, stride)\n",
    "        self.conv2 = nn.Conv2d(6, 16, 5, padding = 1) # input_dim = 62 (after pooling). output_dim (after 2nd pooling) = 30\n",
    "        self.conv3 = nn.Conv2d(16, 16, 5) # input_dim = 30 , output_dim (after 3rd pooling)= 13\n",
    "        \n",
    "        self.fc1 = nn.Linear(16 * 13 * 13, 120) #(16 channel * 13 * 13 (image size))\n",
    "        self.fc2 = nn.Linear(120, 84)\n",
    "        self.fc3 = nn.Linear(84, 20)\n",
    "        self.fc4 = nn.Linear(20, 2)\n",
    "    \n",
    "    def forward(self,x):\n",
    "        x = self.pool(F.relu(self.conv1(x)))\n",
    "        x = self.pool(F.relu(self.conv2(x)))\n",
    "        x = self.pool(F.relu(self.conv3(x)))\n",
    "        x = torch.flatten(x, 1)\n",
    "        x = F.relu(self.fc1(x))\n",
    "        x = F.relu(self.fc2(x))\n",
    "        x = F.relu(self.fc3(x))\n",
    "        x = self.fc4(x)\n",
    "        return x"
   ]
  },
  {
   "cell_type": "code",
   "execution_count": 13,
   "id": "c7adaec0",
   "metadata": {},
   "outputs": [],
   "source": [
    "cnn = CNN().to(device)"
   ]
  },
  {
   "cell_type": "markdown",
   "id": "1b483bcc",
   "metadata": {},
   "source": [
    "### Define loss function and optimizer"
   ]
  },
  {
   "cell_type": "code",
   "execution_count": 14,
   "id": "431304e9",
   "metadata": {},
   "outputs": [],
   "source": [
    "criterion = nn.CrossEntropyLoss()\n",
    "optimizer = optim.SGD(cnn.parameters(), lr=0.001, momentum=0.9)"
   ]
  },
  {
   "cell_type": "markdown",
   "id": "8fde0def",
   "metadata": {},
   "source": [
    "### Train network"
   ]
  },
  {
   "cell_type": "code",
   "execution_count": 15,
   "id": "6089f807",
   "metadata": {},
   "outputs": [],
   "source": [
    "#=========#\n",
    "epochs = 70\n",
    "#=========#"
   ]
  },
  {
   "cell_type": "code",
   "execution_count": 16,
   "id": "b7ada73f",
   "metadata": {},
   "outputs": [],
   "source": [
    "#splitted from below, to run more epochs if needed without setting loss lists to zero\n",
    "train_loss = []  \n",
    "validation_loss = []\n",
    "min_valid_loss = np.inf  #value to distinguish if model will be saved or not. If val loss lower, model will be saved"
   ]
  },
  {
   "cell_type": "code",
   "execution_count": 17,
   "id": "09bb696f",
   "metadata": {},
   "outputs": [
    {
     "name": "stderr",
     "output_type": "stream",
     "text": [
      "  0%|                                                                                          | 0/522 [00:00<?, ?it/s]c:\\users\\matze\\appdata\\local\\programs\\python\\python39\\lib\\site-packages\\torch\\nn\\functional.py:718: UserWarning: Named tensors and all their associated APIs are an experimental feature and subject to change. Please do not use them for anything important until they are released as stable. (Triggered internally at  ..\\c10/core/TensorImpl.h:1156.)\n",
      "  return torch.max_pool2d(input, kernel_size, stride, padding, dilation, ceil_mode)\n",
      "  0%|                                                                                          | 0/522 [00:00<?, ?it/s]"
     ]
    },
    {
     "name": "stdout",
     "output_type": "stream",
     "text": [
      "Epoch 1 \t\t Training Loss: 0.676735592470772 \t\t Validation Loss: 0.6718990763028463\n",
      "Validation Loss Decreased(inf--->50.392431) \t Saving The Model\n"
     ]
    },
    {
     "name": "stderr",
     "output_type": "stream",
     "text": [
      "  0%|                                                                                          | 0/522 [00:00<?, ?it/s]"
     ]
    },
    {
     "name": "stdout",
     "output_type": "stream",
     "text": [
      "Epoch 2 \t\t Training Loss: 0.6698460980279236 \t\t Validation Loss: 0.6657447075843811\n",
      "Validation Loss Decreased(50.392431--->49.930853) \t Saving The Model\n"
     ]
    },
    {
     "name": "stderr",
     "output_type": "stream",
     "text": [
      "  0%|                                                                                          | 0/522 [00:00<?, ?it/s]"
     ]
    },
    {
     "name": "stdout",
     "output_type": "stream",
     "text": [
      "Epoch 3 \t\t Training Loss: 0.6337180607506142 \t\t Validation Loss: 0.6019351903597514\n",
      "Validation Loss Decreased(49.930853--->45.145139) \t Saving The Model\n"
     ]
    },
    {
     "name": "stderr",
     "output_type": "stream",
     "text": [
      "  0%|                                                                                          | 0/522 [00:00<?, ?it/s]"
     ]
    },
    {
     "name": "stdout",
     "output_type": "stream",
     "text": [
      "Epoch 4 \t\t Training Loss: 0.6003876867707661 \t\t Validation Loss: 0.5948316790660222\n",
      "Validation Loss Decreased(45.145139--->44.612376) \t Saving The Model\n"
     ]
    },
    {
     "name": "stderr",
     "output_type": "stream",
     "text": [
      "  0%|                                                                                          | 0/522 [00:00<?, ?it/s]"
     ]
    },
    {
     "name": "stdout",
     "output_type": "stream",
     "text": [
      "Epoch 5 \t\t Training Loss: 0.562942194912968 \t\t Validation Loss: 0.5733487731218339\n",
      "Validation Loss Decreased(44.612376--->43.001158) \t Saving The Model\n"
     ]
    },
    {
     "name": "stderr",
     "output_type": "stream",
     "text": [
      "  0%|                                                                                          | 0/522 [00:00<?, ?it/s]"
     ]
    },
    {
     "name": "stdout",
     "output_type": "stream",
     "text": [
      "Epoch 6 \t\t Training Loss: 0.5302180525101008 \t\t Validation Loss: 0.5064229222138723\n",
      "Validation Loss Decreased(43.001158--->37.981719) \t Saving The Model\n"
     ]
    },
    {
     "name": "stderr",
     "output_type": "stream",
     "text": [
      "  0%|                                                                                          | 0/522 [00:00<?, ?it/s]"
     ]
    },
    {
     "name": "stdout",
     "output_type": "stream",
     "text": [
      "Epoch 7 \t\t Training Loss: 0.45681238839923766 \t\t Validation Loss: 0.44716115812460583\n",
      "Validation Loss Decreased(37.981719--->33.537087) \t Saving The Model\n"
     ]
    },
    {
     "name": "stderr",
     "output_type": "stream",
     "text": [
      "  0%|                                                                                          | 0/522 [00:00<?, ?it/s]"
     ]
    },
    {
     "name": "stdout",
     "output_type": "stream",
     "text": [
      "Epoch 8 \t\t Training Loss: 0.4584475322073447 \t\t Validation Loss: 0.45420523385206857\n"
     ]
    },
    {
     "name": "stderr",
     "output_type": "stream",
     "text": [
      "  0%|                                                                                          | 0/522 [00:00<?, ?it/s]"
     ]
    },
    {
     "name": "stdout",
     "output_type": "stream",
     "text": [
      "Epoch 9 \t\t Training Loss: 0.4368988923814105 \t\t Validation Loss: 0.41632101813952127\n",
      "Validation Loss Decreased(33.537087--->31.224076) \t Saving The Model\n"
     ]
    },
    {
     "name": "stderr",
     "output_type": "stream",
     "text": [
      "  0%|                                                                                          | 0/522 [00:00<?, ?it/s]"
     ]
    },
    {
     "name": "stdout",
     "output_type": "stream",
     "text": [
      "Epoch 10 \t\t Training Loss: 0.40154017744250453 \t\t Validation Loss: 0.4153163653612137\n",
      "Validation Loss Decreased(31.224076--->31.148727) \t Saving The Model\n"
     ]
    },
    {
     "name": "stderr",
     "output_type": "stream",
     "text": [
      "  0%|                                                                                          | 0/522 [00:00<?, ?it/s]"
     ]
    },
    {
     "name": "stdout",
     "output_type": "stream",
     "text": [
      "Epoch 11 \t\t Training Loss: 0.38523013934928396 \t\t Validation Loss: 0.42579119294881823\n"
     ]
    },
    {
     "name": "stderr",
     "output_type": "stream",
     "text": [
      "  0%|                                                                                          | 0/522 [00:00<?, ?it/s]"
     ]
    },
    {
     "name": "stdout",
     "output_type": "stream",
     "text": [
      "Epoch 12 \t\t Training Loss: 0.36648801374837925 \t\t Validation Loss: 0.31021402023732664\n",
      "Validation Loss Decreased(31.148727--->23.266052) \t Saving The Model\n"
     ]
    },
    {
     "name": "stderr",
     "output_type": "stream",
     "text": [
      "  0%|                                                                                          | 0/522 [00:00<?, ?it/s]"
     ]
    },
    {
     "name": "stdout",
     "output_type": "stream",
     "text": [
      "Epoch 13 \t\t Training Loss: 0.3832424393715872 \t\t Validation Loss: 0.33059230928619704\n"
     ]
    },
    {
     "name": "stderr",
     "output_type": "stream",
     "text": [
      "  0%|                                                                                          | 0/522 [00:00<?, ?it/s]"
     ]
    },
    {
     "name": "stdout",
     "output_type": "stream",
     "text": [
      "Epoch 14 \t\t Training Loss: 0.3457232244362719 \t\t Validation Loss: 0.3543231661617756\n"
     ]
    },
    {
     "name": "stderr",
     "output_type": "stream",
     "text": [
      "  0%|                                                                                          | 0/522 [00:00<?, ?it/s]"
     ]
    },
    {
     "name": "stdout",
     "output_type": "stream",
     "text": [
      "Epoch 15 \t\t Training Loss: 0.344069483516902 \t\t Validation Loss: 0.2968346056342125\n",
      "Validation Loss Decreased(23.266052--->22.262595) \t Saving The Model\n"
     ]
    },
    {
     "name": "stderr",
     "output_type": "stream",
     "text": [
      "  0%|                                                                                          | 0/522 [00:00<?, ?it/s]"
     ]
    },
    {
     "name": "stdout",
     "output_type": "stream",
     "text": [
      "Epoch 16 \t\t Training Loss: 0.3315859369530389 \t\t Validation Loss: 0.30530469680825867\n"
     ]
    },
    {
     "name": "stderr",
     "output_type": "stream",
     "text": [
      "  0%|                                                                                          | 0/522 [00:00<?, ?it/s]"
     ]
    },
    {
     "name": "stdout",
     "output_type": "stream",
     "text": [
      "Epoch 17 \t\t Training Loss: 0.3303108834929165 \t\t Validation Loss: 0.3084079538285732\n"
     ]
    },
    {
     "name": "stderr",
     "output_type": "stream",
     "text": [
      "  0%|                                                                                          | 0/522 [00:00<?, ?it/s]"
     ]
    },
    {
     "name": "stdout",
     "output_type": "stream",
     "text": [
      "Epoch 18 \t\t Training Loss: 0.3342586010248468 \t\t Validation Loss: 0.3522397321959337\n"
     ]
    },
    {
     "name": "stderr",
     "output_type": "stream",
     "text": [
      "  0%|                                                                                          | 0/522 [00:00<?, ?it/s]"
     ]
    },
    {
     "name": "stdout",
     "output_type": "stream",
     "text": [
      "Epoch 19 \t\t Training Loss: 0.3350632937100513 \t\t Validation Loss: 0.27783058168987435\n",
      "Validation Loss Decreased(22.262595--->20.837294) \t Saving The Model\n"
     ]
    },
    {
     "name": "stderr",
     "output_type": "stream",
     "text": [
      "  0%|                                                                                          | 0/522 [00:00<?, ?it/s]"
     ]
    },
    {
     "name": "stdout",
     "output_type": "stream",
     "text": [
      "Epoch 20 \t\t Training Loss: 0.3140295815290134 \t\t Validation Loss: 0.2960196240743001\n"
     ]
    },
    {
     "name": "stderr",
     "output_type": "stream",
     "text": [
      "  0%|                                                                                          | 0/522 [00:00<?, ?it/s]"
     ]
    },
    {
     "name": "stdout",
     "output_type": "stream",
     "text": [
      "Epoch 21 \t\t Training Loss: 0.30492257406770956 \t\t Validation Loss: 0.2791118589711065\n"
     ]
    },
    {
     "name": "stderr",
     "output_type": "stream",
     "text": [
      "  0%|                                                                                          | 0/522 [00:00<?, ?it/s]"
     ]
    },
    {
     "name": "stdout",
     "output_type": "stream",
     "text": [
      "Epoch 22 \t\t Training Loss: 0.3105011610751365 \t\t Validation Loss: 0.2638515953471263\n",
      "Validation Loss Decreased(20.837294--->19.788870) \t Saving The Model\n"
     ]
    },
    {
     "name": "stderr",
     "output_type": "stream",
     "text": [
      "  0%|                                                                                          | 0/522 [00:00<?, ?it/s]"
     ]
    },
    {
     "name": "stdout",
     "output_type": "stream",
     "text": [
      "Epoch 23 \t\t Training Loss: 0.2909501593442227 \t\t Validation Loss: 0.37826000242649266\n"
     ]
    },
    {
     "name": "stderr",
     "output_type": "stream",
     "text": [
      "  0%|                                                                                          | 0/522 [00:00<?, ?it/s]"
     ]
    },
    {
     "name": "stdout",
     "output_type": "stream",
     "text": [
      "Epoch 24 \t\t Training Loss: 0.29598570017989767 \t\t Validation Loss: 0.2842016206433376\n"
     ]
    },
    {
     "name": "stderr",
     "output_type": "stream",
     "text": [
      "  0%|                                                                                          | 0/522 [00:00<?, ?it/s]"
     ]
    },
    {
     "name": "stdout",
     "output_type": "stream",
     "text": [
      "Epoch 25 \t\t Training Loss: 0.2765959401033333 \t\t Validation Loss: 0.24692185875028372\n",
      "Validation Loss Decreased(19.788870--->18.519139) \t Saving The Model\n"
     ]
    },
    {
     "name": "stderr",
     "output_type": "stream",
     "text": [
      "  0%|                                                                                          | 0/522 [00:00<?, ?it/s]"
     ]
    },
    {
     "name": "stdout",
     "output_type": "stream",
     "text": [
      "Epoch 26 \t\t Training Loss: 0.2861723988700544 \t\t Validation Loss: 0.26317517915119726\n"
     ]
    },
    {
     "name": "stderr",
     "output_type": "stream",
     "text": [
      "  0%|                                                                                          | 0/522 [00:00<?, ?it/s]"
     ]
    },
    {
     "name": "stdout",
     "output_type": "stream",
     "text": [
      "Epoch 27 \t\t Training Loss: 0.28236478963649164 \t\t Validation Loss: 0.2808337093750015\n"
     ]
    },
    {
     "name": "stderr",
     "output_type": "stream",
     "text": [
      "  0%|                                                                                          | 0/522 [00:00<?, ?it/s]"
     ]
    },
    {
     "name": "stdout",
     "output_type": "stream",
     "text": [
      "Epoch 28 \t\t Training Loss: 0.2936778017569519 \t\t Validation Loss: 0.28739694895843665\n"
     ]
    },
    {
     "name": "stderr",
     "output_type": "stream",
     "text": [
      "  0%|                                                                                          | 0/522 [00:00<?, ?it/s]"
     ]
    },
    {
     "name": "stdout",
     "output_type": "stream",
     "text": [
      "Epoch 29 \t\t Training Loss: 0.27821852521742496 \t\t Validation Loss: 0.2710965757196148\n"
     ]
    },
    {
     "name": "stderr",
     "output_type": "stream",
     "text": [
      "  0%|                                                                                          | 0/522 [00:00<?, ?it/s]"
     ]
    },
    {
     "name": "stdout",
     "output_type": "stream",
     "text": [
      "Epoch 30 \t\t Training Loss: 0.26156941800417516 \t\t Validation Loss: 0.3076282206426064\n"
     ]
    },
    {
     "name": "stderr",
     "output_type": "stream",
     "text": [
      "  0%|                                                                                          | 0/522 [00:00<?, ?it/s]"
     ]
    },
    {
     "name": "stdout",
     "output_type": "stream",
     "text": [
      "Epoch 31 \t\t Training Loss: 0.2598973103108463 \t\t Validation Loss: 0.26827831484377385\n"
     ]
    },
    {
     "name": "stderr",
     "output_type": "stream",
     "text": [
      "  0%|                                                                                          | 0/522 [00:00<?, ?it/s]"
     ]
    },
    {
     "name": "stdout",
     "output_type": "stream",
     "text": [
      "Epoch 32 \t\t Training Loss: 0.24229802180731033 \t\t Validation Loss: 0.2706295278202742\n"
     ]
    },
    {
     "name": "stderr",
     "output_type": "stream",
     "text": [
      "  0%|                                                                                          | 0/522 [00:00<?, ?it/s]"
     ]
    },
    {
     "name": "stdout",
     "output_type": "stream",
     "text": [
      "Epoch 33 \t\t Training Loss: 0.23032181490123138 \t\t Validation Loss: 0.28836485537389916\n"
     ]
    },
    {
     "name": "stderr",
     "output_type": "stream",
     "text": [
      "  0%|                                                                                          | 0/522 [00:00<?, ?it/s]"
     ]
    },
    {
     "name": "stdout",
     "output_type": "stream",
     "text": [
      "Epoch 34 \t\t Training Loss: 0.23122771224720667 \t\t Validation Loss: 0.29550399803866945\n"
     ]
    },
    {
     "name": "stderr",
     "output_type": "stream",
     "text": [
      "  0%|                                                                                          | 0/522 [00:00<?, ?it/s]"
     ]
    },
    {
     "name": "stdout",
     "output_type": "stream",
     "text": [
      "Epoch 35 \t\t Training Loss: 0.2497107357050335 \t\t Validation Loss: 0.28179835272952913\n"
     ]
    },
    {
     "name": "stderr",
     "output_type": "stream",
     "text": [
      "  0%|                                                                                          | 0/522 [00:00<?, ?it/s]"
     ]
    },
    {
     "name": "stdout",
     "output_type": "stream",
     "text": [
      "Epoch 36 \t\t Training Loss: 0.23904206726782137 \t\t Validation Loss: 0.26886683601109934\n"
     ]
    },
    {
     "name": "stderr",
     "output_type": "stream",
     "text": [
      "  0%|                                                                                          | 0/522 [00:00<?, ?it/s]"
     ]
    },
    {
     "name": "stdout",
     "output_type": "stream",
     "text": [
      "Epoch 37 \t\t Training Loss: 0.22586027059393624 \t\t Validation Loss: 0.2695607142398755\n"
     ]
    },
    {
     "name": "stderr",
     "output_type": "stream",
     "text": [
      "  0%|                                                                                          | 0/522 [00:00<?, ?it/s]"
     ]
    },
    {
     "name": "stdout",
     "output_type": "stream",
     "text": [
      "Epoch 38 \t\t Training Loss: 0.23289310713378905 \t\t Validation Loss: 0.3031749620218761\n"
     ]
    },
    {
     "name": "stderr",
     "output_type": "stream",
     "text": [
      "  0%|                                                                                          | 0/522 [00:00<?, ?it/s]"
     ]
    },
    {
     "name": "stdout",
     "output_type": "stream",
     "text": [
      "Epoch 39 \t\t Training Loss: 0.2222961952443274 \t\t Validation Loss: 0.3151934553993245\n"
     ]
    },
    {
     "name": "stderr",
     "output_type": "stream",
     "text": [
      "  0%|                                                                                          | 0/522 [00:00<?, ?it/s]"
     ]
    },
    {
     "name": "stdout",
     "output_type": "stream",
     "text": [
      "Epoch 40 \t\t Training Loss: 0.21043985732095102 \t\t Validation Loss: 0.30926554164538783\n"
     ]
    },
    {
     "name": "stderr",
     "output_type": "stream",
     "text": [
      "  0%|                                                                                          | 0/522 [00:00<?, ?it/s]"
     ]
    },
    {
     "name": "stdout",
     "output_type": "stream",
     "text": [
      "Epoch 41 \t\t Training Loss: 0.2038203806186945 \t\t Validation Loss: 0.29599231848231283\n"
     ]
    },
    {
     "name": "stderr",
     "output_type": "stream",
     "text": [
      "  0%|                                                                                          | 0/522 [00:00<?, ?it/s]"
     ]
    },
    {
     "name": "stdout",
     "output_type": "stream",
     "text": [
      "Epoch 42 \t\t Training Loss: 0.21161906001799458 \t\t Validation Loss: 0.3087363985646516\n"
     ]
    },
    {
     "name": "stderr",
     "output_type": "stream",
     "text": [
      "  0%|                                                                                          | 0/522 [00:00<?, ?it/s]"
     ]
    },
    {
     "name": "stdout",
     "output_type": "stream",
     "text": [
      "Epoch 43 \t\t Training Loss: 0.20779135105266125 \t\t Validation Loss: 0.2958468197907011\n"
     ]
    },
    {
     "name": "stderr",
     "output_type": "stream",
     "text": [
      "  0%|                                                                                          | 0/522 [00:00<?, ?it/s]"
     ]
    },
    {
     "name": "stdout",
     "output_type": "stream",
     "text": [
      "Epoch 44 \t\t Training Loss: 0.17992784749757557 \t\t Validation Loss: 0.3058579232310876\n"
     ]
    },
    {
     "name": "stderr",
     "output_type": "stream",
     "text": [
      "  0%|                                                                                          | 0/522 [00:00<?, ?it/s]"
     ]
    },
    {
     "name": "stdout",
     "output_type": "stream",
     "text": [
      "Epoch 45 \t\t Training Loss: 0.19746717895193594 \t\t Validation Loss: 0.3268122938585778\n"
     ]
    },
    {
     "name": "stderr",
     "output_type": "stream",
     "text": [
      "  0%|                                                                                          | 0/522 [00:00<?, ?it/s]"
     ]
    },
    {
     "name": "stdout",
     "output_type": "stream",
     "text": [
      "Epoch 46 \t\t Training Loss: 0.19236516204936488 \t\t Validation Loss: 0.2918502175854519\n"
     ]
    },
    {
     "name": "stderr",
     "output_type": "stream",
     "text": [
      "  0%|                                                                                          | 0/522 [00:00<?, ?it/s]"
     ]
    },
    {
     "name": "stdout",
     "output_type": "stream",
     "text": [
      "Epoch 47 \t\t Training Loss: 0.19770611704271857 \t\t Validation Loss: 0.43511613493317175\n"
     ]
    },
    {
     "name": "stderr",
     "output_type": "stream",
     "text": [
      "  0%|                                                                                          | 0/522 [00:00<?, ?it/s]"
     ]
    },
    {
     "name": "stdout",
     "output_type": "stream",
     "text": [
      "Epoch 48 \t\t Training Loss: 0.17582150980659808 \t\t Validation Loss: 0.3356253398101156\n"
     ]
    },
    {
     "name": "stderr",
     "output_type": "stream",
     "text": [
      "  0%|                                                                                          | 0/522 [00:00<?, ?it/s]"
     ]
    },
    {
     "name": "stdout",
     "output_type": "stream",
     "text": [
      "Epoch 49 \t\t Training Loss: 0.19201631507950245 \t\t Validation Loss: 0.31821101309576383\n"
     ]
    },
    {
     "name": "stderr",
     "output_type": "stream",
     "text": [
      "  0%|                                                                                          | 0/522 [00:00<?, ?it/s]"
     ]
    },
    {
     "name": "stdout",
     "output_type": "stream",
     "text": [
      "Epoch 50 \t\t Training Loss: 0.19390865883393432 \t\t Validation Loss: 0.2898986748854319\n"
     ]
    },
    {
     "name": "stderr",
     "output_type": "stream",
     "text": [
      "  0%|                                                                                          | 0/522 [00:00<?, ?it/s]"
     ]
    },
    {
     "name": "stdout",
     "output_type": "stream",
     "text": [
      "Epoch 51 \t\t Training Loss: 0.16856053918470731 \t\t Validation Loss: 0.353564806090047\n"
     ]
    },
    {
     "name": "stderr",
     "output_type": "stream",
     "text": [
      "  0%|                                                                                          | 0/522 [00:00<?, ?it/s]"
     ]
    },
    {
     "name": "stdout",
     "output_type": "stream",
     "text": [
      "Epoch 52 \t\t Training Loss: 0.14960382170637337 \t\t Validation Loss: 0.30953684459847863\n"
     ]
    },
    {
     "name": "stderr",
     "output_type": "stream",
     "text": [
      "  0%|                                                                                          | 0/522 [00:00<?, ?it/s]"
     ]
    },
    {
     "name": "stdout",
     "output_type": "stream",
     "text": [
      "Epoch 53 \t\t Training Loss: 0.16191936969949572 \t\t Validation Loss: 0.27677781036744514\n"
     ]
    },
    {
     "name": "stderr",
     "output_type": "stream",
     "text": [
      "  0%|                                                                                          | 0/522 [00:00<?, ?it/s]"
     ]
    },
    {
     "name": "stdout",
     "output_type": "stream",
     "text": [
      "Epoch 54 \t\t Training Loss: 0.14800674138323267 \t\t Validation Loss: 0.32876538368252417\n"
     ]
    },
    {
     "name": "stderr",
     "output_type": "stream",
     "text": [
      "  0%|                                                                                          | 0/522 [00:00<?, ?it/s]"
     ]
    },
    {
     "name": "stdout",
     "output_type": "stream",
     "text": [
      "Epoch 55 \t\t Training Loss: 0.17950369083798504 \t\t Validation Loss: 0.3092186929813276\n"
     ]
    },
    {
     "name": "stderr",
     "output_type": "stream",
     "text": [
      "  0%|                                                                                          | 0/522 [00:00<?, ?it/s]"
     ]
    },
    {
     "name": "stdout",
     "output_type": "stream",
     "text": [
      "Epoch 56 \t\t Training Loss: 0.16105945139708108 \t\t Validation Loss: 0.2960769832382599\n"
     ]
    },
    {
     "name": "stderr",
     "output_type": "stream",
     "text": [
      "  0%|                                                                                          | 0/522 [00:00<?, ?it/s]"
     ]
    },
    {
     "name": "stdout",
     "output_type": "stream",
     "text": [
      "Epoch 57 \t\t Training Loss: 0.1539440127501645 \t\t Validation Loss: 0.2859105633571744\n"
     ]
    },
    {
     "name": "stderr",
     "output_type": "stream",
     "text": [
      "  0%|▏                                                                                 | 1/522 [00:00<01:42,  5.08it/s]"
     ]
    },
    {
     "name": "stdout",
     "output_type": "stream",
     "text": [
      "Epoch 58 \t\t Training Loss: 0.1545443173828651 \t\t Validation Loss: 0.3360369022101319\n"
     ]
    },
    {
     "name": "stderr",
     "output_type": "stream",
     "text": [
      "  0%|▏                                                                                 | 1/522 [00:00<01:18,  6.67it/s]"
     ]
    },
    {
     "name": "stdout",
     "output_type": "stream",
     "text": [
      "Epoch 59 \t\t Training Loss: 0.14445198170887963 \t\t Validation Loss: 0.3086933071925887\n"
     ]
    },
    {
     "name": "stderr",
     "output_type": "stream",
     "text": [
      "  0%|                                                                                          | 0/522 [00:00<?, ?it/s]"
     ]
    },
    {
     "name": "stdout",
     "output_type": "stream",
     "text": [
      "Epoch 60 \t\t Training Loss: 0.13569320246114996 \t\t Validation Loss: 0.38892104135127736\n"
     ]
    },
    {
     "name": "stderr",
     "output_type": "stream",
     "text": [
      "  0%|                                                                                          | 0/522 [00:00<?, ?it/s]"
     ]
    },
    {
     "name": "stdout",
     "output_type": "stream",
     "text": [
      "Epoch 61 \t\t Training Loss: 0.12863094641349676 \t\t Validation Loss: 0.3938849527621642\n"
     ]
    },
    {
     "name": "stderr",
     "output_type": "stream",
     "text": [
      "  0%|                                                                                          | 0/522 [00:00<?, ?it/s]"
     ]
    },
    {
     "name": "stdout",
     "output_type": "stream",
     "text": [
      "Epoch 62 \t\t Training Loss: 0.13324619771374552 \t\t Validation Loss: 0.4193538980294639\n"
     ]
    },
    {
     "name": "stderr",
     "output_type": "stream",
     "text": [
      "  0%|                                                                                          | 0/522 [00:00<?, ?it/s]"
     ]
    },
    {
     "name": "stdout",
     "output_type": "stream",
     "text": [
      "Epoch 63 \t\t Training Loss: 0.12117436529680577 \t\t Validation Loss: 0.32213493749770955\n"
     ]
    },
    {
     "name": "stderr",
     "output_type": "stream",
     "text": [
      "  0%|                                                                                          | 0/522 [00:00<?, ?it/s]"
     ]
    },
    {
     "name": "stdout",
     "output_type": "stream",
     "text": [
      "Epoch 64 \t\t Training Loss: 0.13489274816755026 \t\t Validation Loss: 0.32677973805032406\n"
     ]
    },
    {
     "name": "stderr",
     "output_type": "stream",
     "text": [
      "  0%|                                                                                          | 0/522 [00:00<?, ?it/s]"
     ]
    },
    {
     "name": "stdout",
     "output_type": "stream",
     "text": [
      "Epoch 65 \t\t Training Loss: 0.1308926006555806 \t\t Validation Loss: 0.3398742950437008\n"
     ]
    },
    {
     "name": "stderr",
     "output_type": "stream",
     "text": [
      "  0%|                                                                                          | 0/522 [00:00<?, ?it/s]"
     ]
    },
    {
     "name": "stdout",
     "output_type": "stream",
     "text": [
      "Epoch 66 \t\t Training Loss: 0.11679856373775274 \t\t Validation Loss: 0.42034623442198304\n"
     ]
    },
    {
     "name": "stderr",
     "output_type": "stream",
     "text": [
      "  0%|                                                                                          | 0/522 [00:00<?, ?it/s]"
     ]
    },
    {
     "name": "stdout",
     "output_type": "stream",
     "text": [
      "Epoch 67 \t\t Training Loss: 0.1111473997151319 \t\t Validation Loss: 0.35625966300499085\n"
     ]
    },
    {
     "name": "stderr",
     "output_type": "stream",
     "text": [
      "  0%|                                                                                          | 0/522 [00:00<?, ?it/s]"
     ]
    },
    {
     "name": "stdout",
     "output_type": "stream",
     "text": [
      "Epoch 68 \t\t Training Loss: 0.11299091174679857 \t\t Validation Loss: 0.5267703822780337\n"
     ]
    },
    {
     "name": "stderr",
     "output_type": "stream",
     "text": [
      "  0%|                                                                                          | 0/522 [00:00<?, ?it/s]"
     ]
    },
    {
     "name": "stdout",
     "output_type": "stream",
     "text": [
      "Epoch 69 \t\t Training Loss: 0.12793893045392377 \t\t Validation Loss: 0.37488640644310484\n"
     ]
    },
    {
     "name": "stderr",
     "output_type": "stream",
     "text": [
      "                                                                                                                       "
     ]
    },
    {
     "name": "stdout",
     "output_type": "stream",
     "text": [
      "Epoch 70 \t\t Training Loss: 0.12266528107792862 \t\t Validation Loss: 0.39482309609479976\n",
      "Finished Training\n",
      "Execution time of training is : 04:45:52\n"
     ]
    },
    {
     "name": "stderr",
     "output_type": "stream",
     "text": [
      "\r"
     ]
    }
   ],
   "source": [
    "#Starting Time \n",
    "train_start = start_time_()\n",
    "\n",
    "\n",
    "#Training Iterations\n",
    "#==========================================================================\n",
    "for epoch in range(epochs):  # loop over the dataset multiple times\n",
    "    \n",
    "    \n",
    "    #model training\n",
    "    #______________________________________________________\n",
    "    running_loss = 0.0\n",
    "    cnn.train()\n",
    "    for data, labels in tqdm(train_loader, leave=False):\n",
    "        data, labels = data.to(device), labels.to(device)\n",
    "\n",
    "        # zero the parameter gradients\n",
    "        optimizer.zero_grad()\n",
    "\n",
    "        # forward + backward + optimize\n",
    "        outputs = cnn(data)\n",
    "        loss = criterion(outputs, labels)\n",
    "        loss.backward()\n",
    "        optimizer.step()\n",
    "        running_loss += loss.item()\n",
    "    train_loss.append(running_loss / len(train_loader))\n",
    "    \n",
    "    \n",
    "    #model validation\n",
    "    #______________________________________________________\n",
    "    valid_loss = 0.0\n",
    "    cnn.eval()\n",
    "    for data, labels in tqdm(val_loader, leave=False):\n",
    "        data, labels = data.to(device), labels.to(device)\n",
    "        \n",
    "        outputs = cnn(data)\n",
    "        loss = criterion(outputs, labels)\n",
    "        valid_loss += loss.item()\n",
    "    validation_loss.append(valid_loss / len(val_loader))\n",
    "    \n",
    "    \n",
    "    #console output for tracking\n",
    "    #______________________________________________________\n",
    "    print(f'Epoch {epoch+1} \\t\\t Training Loss: {running_loss / len(train_loader)} \\t\\t Validation Loss: {valid_loss / len(val_loader)}')\n",
    "     \n",
    "    if min_valid_loss > valid_loss:\n",
    "        print(f'Validation Loss Decreased({min_valid_loss:.6f}--->{valid_loss:.6f}) \\t Saving The Model')\n",
    "        min_valid_loss = valid_loss\n",
    "         \n",
    "        # Saving State Dict\n",
    "        torch.save(cnn.state_dict(), f'models/cnn_net_b{batch_size}_e{epochs}_v1.pth') \n",
    "        \n",
    "        \n",
    "#==========================================================================\n",
    "\n",
    "\n",
    "print('Finished Training')\n",
    "\n",
    "#End Time of Training\n",
    "train_end = end_time_()\n",
    "\n",
    "#Time needed for training\n",
    "print(\"Execution time of training is :\", Execution_time(train_start, train_end))"
   ]
  },
  {
   "cell_type": "markdown",
   "id": "dd5601c6",
   "metadata": {},
   "source": [
    "### Save Model (now integrated in training loop)"
   ]
  },
  {
   "cell_type": "code",
   "execution_count": 18,
   "id": "734b324c",
   "metadata": {},
   "outputs": [],
   "source": [
    "# PATH = './cnn_net.pth'\n",
    "# torch.save(cnn.state_dict(), PATH)\n",
    "\n",
    "#Loading the model\n",
    "#cnn = CNN()\n",
    "#cnn.load_state_dict(torch.load(PATH))"
   ]
  },
  {
   "cell_type": "markdown",
   "id": "78705e07",
   "metadata": {},
   "source": [
    "### Show loss over epochs"
   ]
  },
  {
   "cell_type": "code",
   "execution_count": 19,
   "id": "f65a510c",
   "metadata": {},
   "outputs": [
    {
     "data": {
      "image/png": "[encoded data removed]",
      "text/plain": [
       "<Figure size 720x432 with 1 Axes>"
      ]
     },
     "metadata": {
      "needs_background": "light"
     },
     "output_type": "display_data"
    }
   ],
   "source": [
    "plt.figure(figsize=(10,6))\n",
    "plt.plot(train_loss, label='Train_Loss')\n",
    "plt.plot(validation_loss, label='Validation_Loss')\n",
    "plt.xlabel('Epochs', fontsize=15)\n",
    "plt.ylabel('Loss', fontsize=15)\n",
    "plt.legend(fontsize=13)\n",
    "plt.tick_params(labelsize=12)\n",
    "plt.grid()\n",
    "plt.title('Loss Values', fontsize=18)\n",
    "plt.savefig(f'graphs/loss_b{batch_size}_e{epochs}_v1.png', dpi=300)"
   ]
  },
  {
   "cell_type": "markdown",
   "id": "b085c099",
   "metadata": {},
   "source": [
    "### Testing\n",
    "#### Sample"
   ]
  },
  {
   "cell_type": "code",
   "execution_count": 23,
   "id": "251677af",
   "metadata": {},
   "outputs": [
    {
     "name": "stdout",
     "output_type": "stream",
     "text": [
      "Truth: scene \t Prediction: scene \t Result: Right\n"
     ]
    },
    {
     "data": {
      "image/png": "[encoded data removed]",
      "text/plain": [
       "<Figure size 216x216 with 1 Axes>"
      ]
     },
     "metadata": {
      "needs_background": "light"
     },
     "output_type": "display_data"
    },
    {
     "name": "stderr",
     "output_type": "stream",
     "text": [
      "Clipping input data to the valid range for imshow with RGB data ([0..1] for floats or [0..255] for integers).\n"
     ]
    },
    {
     "name": "stdout",
     "output_type": "stream",
     "text": [
      "Truth: person \t Prediction: person \t Result: Right\n"
     ]
    },
    {
     "data": {
      "image/png": "[encoded data removed]",
      "text/plain": [
       "<Figure size 216x216 with 1 Axes>"
      ]
     },
     "metadata": {
      "needs_background": "light"
     },
     "output_type": "display_data"
    },
    {
     "name": "stdout",
     "output_type": "stream",
     "text": [
      "Truth: person \t Prediction: person \t Result: Right\n"
     ]
    },
    {
     "data": {
      "image/png": "[encoded data removed]",
      "text/plain": [
       "<Figure size 216x216 with 1 Axes>"
      ]
     },
     "metadata": {
      "needs_background": "light"
     },
     "output_type": "display_data"
    },
    {
     "name": "stdout",
     "output_type": "stream",
     "text": [
      "Truth: scene \t Prediction: scene \t Result: Right\n"
     ]
    },
    {
     "data": {
      "image/png": "[encoded data removed]",
      "text/plain": [
       "<Figure size 216x216 with 1 Axes>"
      ]
     },
     "metadata": {
      "needs_background": "light"
     },
     "output_type": "display_data"
    }
   ],
   "source": [
    "#load a batch from the test set\n",
    "dataiter = iter(test_loader)\n",
    "images, labels = dataiter.next()\n",
    "images, labels = images.to(device), labels.to(device)\n",
    "\n",
    "#generate predictions of testloader samples\n",
    "cnn.eval()\n",
    "outputs = cnn(images)\n",
    "\n",
    "#the class with the highest energy is what we choose as prediction\n",
    "_, predicted = torch.max(outputs, 1)\n",
    "\n",
    "for i in range(batch_size):\n",
    "    if classes[labels[i]] == classes[predicted[i]]:\n",
    "        boolean = 'Right'\n",
    "    else:\n",
    "        boolean = 'Wrong'\n",
    "    print(f'Truth: {classes[labels[i]]} \\t Prediction: {classes[predicted[i]]} \\t Result: {boolean}')\n",
    "    imshow(images[i])"
   ]
  },
  {
   "cell_type": "markdown",
   "id": "cd568710",
   "metadata": {},
   "source": [
    "#### Complete testset"
   ]
  },
  {
   "cell_type": "code",
   "execution_count": 24,
   "id": "90bd6600",
   "metadata": {
    "scrolled": true
   },
   "outputs": [
    {
     "name": "stdout",
     "output_type": "stream",
     "text": [
      "Accuracy of the network on the 597 test images: 88 %\n"
     ]
    }
   ],
   "source": [
    "correct = 0\n",
    "total = 0\n",
    "# since we're not training, we don't need to calculate the gradients for our outputs\n",
    "with torch.no_grad():\n",
    "    for data, labels in test_loader:\n",
    "        data, labels = data.to(device), labels.to(device)\n",
    "        \n",
    "        # calculate outputs by running images through the network\n",
    "        outputs = cnn(data)\n",
    "        # the class with the highest energy is what we choose as prediction\n",
    "        _, predicted = torch.max(outputs.data, 1)\n",
    "        total += labels.size(0)\n",
    "        correct += (predicted == labels).sum().item()\n",
    "\n",
    "print('Accuracy of the network on the 597 test images: %d %%' % (\n",
    "    100 * correct / total))"
   ]
  },
  {
   "cell_type": "markdown",
   "id": "af85f21e",
   "metadata": {},
   "source": [
    "### Script Runtime Result"
   ]
  },
  {
   "cell_type": "code",
   "execution_count": 22,
   "id": "d01f3630",
   "metadata": {},
   "outputs": [
    {
     "name": "stdout",
     "output_type": "stream",
     "text": [
      "Execution time of script is : 04:46:56 hh:mm:ss\n"
     ]
    }
   ],
   "source": [
    "#End Time of Training\n",
    "script_end = end_time_()\n",
    "\n",
    "#Time needed for script\n",
    "print(f'Execution time of script is : {Execution_time(script_start, script_end)} hh:mm:ss')"
   ]
  }
 ],
 "metadata": {
  "kernelspec": {
   "display_name": "Python 3",
   "language": "python",
   "name": "python3"
  },
  "language_info": {
   "codemirror_mode": {
    "name": "ipython",
    "version": 3
   },
   "file_extension": ".py",
   "mimetype": "text/x-python",
   "name": "python",
   "nbconvert_exporter": "python",
   "pygments_lexer": "ipython3",
   "version": "3.9.6"
  }
 },
 "nbformat": 4,
 "nbformat_minor": 5
}
