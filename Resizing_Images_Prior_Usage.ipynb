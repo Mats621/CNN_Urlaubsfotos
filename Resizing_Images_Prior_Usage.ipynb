{
 "cells": [
  {
   "cell_type": "code",
   "execution_count": 29,
   "id": "cacf572e",
   "metadata": {},
   "outputs": [],
   "source": [
    "import os\n",
    "import cv2\n",
    "from tqdm import tqdm\n",
    "import splitfolders"
   ]
  },
  {
   "cell_type": "code",
   "execution_count": 24,
   "id": "ee299f69",
   "metadata": {},
   "outputs": [],
   "source": [
    "PATH_Person = r\"C:\\\\Users\\\\Matze\\\\Desktop\\\\Python_Projects\\\\CNN_Urlaubsfotos\\\\Data\\\\Person\"\n",
    "PATH_Scene = r\"C:\\\\Users\\\\Matze\\\\Desktop\\\\Python_Projects\\\\CNN_Urlaubsfotos\\\\Data\\\\Scene\""
   ]
  },
  {
   "cell_type": "code",
   "execution_count": 25,
   "id": "83302240",
   "metadata": {},
   "outputs": [],
   "source": [
    "resize_to_person = r\"C:\\\\Users\\\\Matze\\\\Desktop\\\\Python_Projects\\\\CNN_Urlaubsfotos\\\\img_data_resized\\\\Person\\\\\"\n",
    "resize_to_scene = r\"C:\\\\Users\\\\Matze\\\\Desktop\\\\Python_Projects\\\\CNN_Urlaubsfotos\\\\img_data_resized\\\\Scene\\\\\""
   ]
  },
  {
   "cell_type": "code",
   "execution_count": 26,
   "id": "93006b0d",
   "metadata": {},
   "outputs": [],
   "source": [
    "pixel = 128\n",
    "\n",
    "for filename in os.listdir(PATH_Person):\n",
    "#     print(filename)   \n",
    "     if filename != 'desktop.ini':\n",
    "        \n",
    "        img = cv2.imread(os.path.join(PATH_Person, filename), cv2.IMREAD_UNCHANGED)\n",
    "        \n",
    "\n",
    "        width = int(img.shape[1])\n",
    "        height = int(img.shape[0])\n",
    "        \n",
    "        if width > height:\n",
    "            ratio = width/height\n",
    "            dim = (int(pixel*ratio), pixel)\n",
    "        \n",
    "        else:\n",
    "            ratio = height/width\n",
    "            dim = ((pixel, int(pixel*ratio)))\n",
    "        \n",
    "        resized = cv2.resize(img, dim, interpolation = cv2.INTER_AREA)\n",
    "\n",
    "        cv2.imwrite(resize_to_person+filename, resized)\n"
   ]
  },
  {
   "cell_type": "code",
   "execution_count": 28,
   "id": "0c7f6384",
   "metadata": {},
   "outputs": [
    {
     "name": "stderr",
     "output_type": "stream",
     "text": [
      "100%|██████████████████████████████████████████████████████████████████████████████| 1786/1786 [04:49<00:00,  6.16it/s]\n"
     ]
    }
   ],
   "source": [
    "for filename in tqdm(os.listdir(PATH_Scene)):\n",
    "#     print(filename)   \n",
    "     if filename != 'desktop.ini':\n",
    "        \n",
    "        img = cv2.imread(os.path.join(PATH_Scene, filename), cv2.IMREAD_UNCHANGED)\n",
    "        \n",
    "\n",
    "        width = int(img.shape[1])\n",
    "        height = int(img.shape[0])\n",
    "        \n",
    "        if width > height:\n",
    "            ratio = width/height\n",
    "            dim = (int(pixel*ratio), pixel)\n",
    "        \n",
    "        else:\n",
    "            ratio = height/width\n",
    "            dim = ((pixel, int(pixel*ratio)))\n",
    "        \n",
    "        resized = cv2.resize(img, dim, interpolation = cv2.INTER_AREA)\n",
    "\n",
    "        cv2.imwrite(resize_to_scene+filename, resized)"
   ]
  },
  {
   "cell_type": "code",
   "execution_count": 30,
   "id": "48817156",
   "metadata": {},
   "outputs": [
    {
     "name": "stderr",
     "output_type": "stream",
     "text": [
      "Copying files: 2979 files [00:08, 355.61 files/s]\n"
     ]
    }
   ],
   "source": [
    "# Following Code does the described above\n",
    "\n",
    "input_folder = 'img_data_resized/'\n",
    "output_folder = 'img_data_2/'\n",
    "\n",
    "splitfolders.ratio(input_folder, output=output_folder, seed=1337, ratio=(0.7, 0.1, 0.2))"
   ]
  },
  {
   "cell_type": "code",
   "execution_count": null,
   "id": "cdaa1e02",
   "metadata": {},
   "outputs": [],
   "source": []
  }
 ],
 "metadata": {
  "kernelspec": {
   "display_name": "Python 3",
   "language": "python",
   "name": "python3"
  },
  "language_info": {
   "codemirror_mode": {
    "name": "ipython",
    "version": 3
   },
   "file_extension": ".py",
   "mimetype": "text/x-python",
   "name": "python",
   "nbconvert_exporter": "python",
   "pygments_lexer": "ipython3",
   "version": "3.9.6"
  }
 },
 "nbformat": 4,
 "nbformat_minor": 5
}
